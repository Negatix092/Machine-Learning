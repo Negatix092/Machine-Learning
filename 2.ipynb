{
 "cells": [
  {
   "attachments": {},
   "cell_type": "markdown",
   "metadata": {},
   "source": [
    "# Section 1 – The \"Hello, World!\" Program\n",
    "\n",
    "## 1.1 Your very first program\n",
    "\n",
    "It's time to start writing some **real, working Python code**. It'll be very simple for the time being.\n",
    "\n",
    "As we're going to show you some fundamental concepts and terms, these snippets of code won't be all that serious or complex.\n",
    "\n",
    "Run the code in the editor window. If everything goes okay here, you'll see the line of text in the console window.\n",
    "\n",
    "Alternatively, launch IDLE, create a new Python source file, fill it with this code, name the file and save it. Now run it. If everything goes okay, you'll see the text contained within the quotation marks in the IDLE console window. The code you have run should look familiar. You saw something very similar when we led you through the setting up of the IDLE environment.\n"
   ]
  },
  {
   "cell_type": "code",
   "execution_count": 1,
   "metadata": {},
   "outputs": [
    {
     "name": "stdout",
     "output_type": "stream",
     "text": [
      "Hello, world!\n"
     ]
    }
   ],
   "source": [
    "print(\"Hello, world!\")"
   ]
  },
  {
   "attachments": {},
   "cell_type": "markdown",
   "metadata": {},
   "source": [
    "Now we'll spend some time showing and explaining to you what you're actually seeing, and why it looks like this.\n",
    "\n",
    "As you can see, this first program consists of the following parts:\n",
    "\n",
    "* the word ``print``;\n",
    "* an opening parenthesis;\n",
    "* a quotation mark;\n",
    "* a line of text: ``Hello, World!``;\n",
    "* another quotation mark;\n",
    "* a closing parenthesis.\n",
    "\n",
    "Each of the above plays a very important role in the code.\n",
    "\n",
    "## 1.2 The print() function\n",
    "\n",
    "\n",
    "\n",
    "The word **print** that you can see here is a **function name**. That doesn't mean that wherever the word appears it is always a function name. The meaning of the word comes from the context in which the word has been used.\n",
    "\n",
    "You've probably encountered the term function many times before, during math classes. You can probably also list several names of mathematical functions, like sine or log.\n",
    "\n",
    "Python functions, however, are more flexible, and can contain more content than their mathematical siblings.\n",
    "\n",
    "A function (in this context) is a separate part of the computer code able to:\n",
    "\n",
    "* **cause some effect** (e.g., send text to the terminal, create a file, draw an image, play a sound, etc.); this is something completely unheard of in the world of mathematics;\n",
    "* **evaluate a value** (e.g., the square root of a value or the length of a given text) and return it as the function's result; this is what makes Python functions the relatives of mathematical concepts.\n",
    "\n",
    "Moreover, many Python functions can do the above two things together.\n",
    "\n",
    "### Where do these functions come from?\n",
    "\n",
    "* From Python itself: They may come **from Python itself**; the print function is one of this kind; such a function is an added value received together with Python and its environment (it is **built-in**); you don't have to do anything special (e.g., ask anyone for anything) if you want to make use of it;\n",
    "* From modules: They may come from one or more of Python's add-ons named **modules**; some of the modules come with Python, others may require separate installation - whatever the case, they all need to be explicitly connected with your code (we'll show you how to do that soon);\n",
    "* From your code: You can **write them yourself**, placing as many functions as you want and need inside your program to make it simpler, clearer and more elegant.\n",
    "\n",
    "\n",
    "The name of the function should be **significant** (the name of the print function is self-evident).\n",
    "\n",
    "Of course, if you're going to make use of any already existing function, you have no influence on its name, but when you start writing your own functions, you should consider carefully your choice of names.\n",
    "\n",
    "## 1.3 Function arguments\n",
    "\n",
    "As we said before, a function may have:\n",
    "\n",
    "* an effect;\n",
    "* a result.\n",
    "\n",
    "There's also a third, very important, function component ‒ the **argument**(s).\n",
    "\n",
    "Mathematical functions usually take one argument. For example, sin(x) takes an x, which is the measure of an angle.\n",
    "\n",
    "Python functions, on the other hand, are more versatile. Depending on the individual needs, they may accept any number of arguments ‒ as many as necessary to perform their tasks. Note: When we said ***any number***, that includes zero ‒ some Python functions don't need any argument.\n",
    "\n",
    "``print(\"Hello, world!\")``\n",
    "\n",
    "In spite of the number of needed/provided arguments, Python functions strongly demand the presence of a **pair of parentheses** ‒ opening and closing ones, respectively.\n",
    "\n",
    "If you want to deliver one or more arguments to a function, you place them **inside the parentheses**. If you're going to use a function which doesn't take any argument, you still have to have the parentheses.\n",
    "\n",
    "Note: to distinguish ordinary words from function names, place a **pair of empty parentheses** after their names, even if the corresponding function wants one or more arguments. This is a standard convention.\n",
    "\n",
    "The function we're talking about here is ``print()``.\n",
    "\n",
    "Does the ``print()`` function in our example have any arguments?\n",
    "\n",
    "Of course it does, but what are they?"
   ]
  },
  {
   "cell_type": "code",
   "execution_count": null,
   "metadata": {},
   "outputs": [],
   "source": []
  }
 ],
 "metadata": {
  "kernelspec": {
   "display_name": "Python 3",
   "language": "python",
   "name": "python3"
  },
  "language_info": {
   "codemirror_mode": {
    "name": "ipython",
    "version": 3
   },
   "file_extension": ".py",
   "mimetype": "text/x-python",
   "name": "python",
   "nbconvert_exporter": "python",
   "pygments_lexer": "ipython3",
   "version": "3.11.2"
  },
  "orig_nbformat": 4
 },
 "nbformat": 4,
 "nbformat_minor": 2
}

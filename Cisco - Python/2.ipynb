{
 "cells": [
  {
   "attachments": {},
   "cell_type": "markdown",
   "metadata": {},
   "source": [
    "# Section 1 – The \"Hello, World!\" Program\n",
    "\n",
    "## 1.1 Your very first program\n",
    "\n",
    "It's time to start writing some **real, working Python code**. It'll be very simple for the time being.\n",
    "\n",
    "As we're going to show you some fundamental concepts and terms, these snippets of code won't be all that serious or complex.\n",
    "\n",
    "Run the code in the editor window. If everything goes okay here, you'll see the line of text in the console window.\n",
    "\n",
    "Alternatively, launch IDLE, create a new Python source file, fill it with this code, name the file and save it. Now run it. If everything goes okay, you'll see the text contained within the quotation marks in the IDLE console window. The code you have run should look familiar. You saw something very similar when we led you through the setting up of the IDLE environment.\n"
   ]
  },
  {
   "cell_type": "code",
   "execution_count": 1,
   "metadata": {},
   "outputs": [
    {
     "name": "stdout",
     "output_type": "stream",
     "text": [
      "Hello, world!\n"
     ]
    }
   ],
   "source": [
    "print(\"Hello, world!\")"
   ]
  },
  {
   "attachments": {},
   "cell_type": "markdown",
   "metadata": {},
   "source": [
    "Now we'll spend some time showing and explaining to you what you're actually seeing, and why it looks like this.\n",
    "\n",
    "As you can see, this first program consists of the following parts:\n",
    "\n",
    "* the word ``print``;\n",
    "* an opening parenthesis;\n",
    "* a quotation mark;\n",
    "* a line of text: ``Hello, World!``;\n",
    "* another quotation mark;\n",
    "* a closing parenthesis.\n",
    "\n",
    "Each of the above plays a very important role in the code.\n",
    "\n",
    "## 1.2 The print() function\n",
    "\n",
    "\n",
    "\n",
    "The word **print** that you can see here is a **function name**. That doesn't mean that wherever the word appears it is always a function name. The meaning of the word comes from the context in which the word has been used.\n",
    "\n",
    "You've probably encountered the term function many times before, during math classes. You can probably also list several names of mathematical functions, like sine or log.\n",
    "\n",
    "Python functions, however, are more flexible, and can contain more content than their mathematical siblings.\n",
    "\n",
    "A function (in this context) is a separate part of the computer code able to:\n",
    "\n",
    "* **cause some effect** (e.g., send text to the terminal, create a file, draw an image, play a sound, etc.); this is something completely unheard of in the world of mathematics;\n",
    "* **evaluate a value** (e.g., the square root of a value or the length of a given text) and return it as the function's result; this is what makes Python functions the relatives of mathematical concepts.\n",
    "\n",
    "Moreover, many Python functions can do the above two things together.\n",
    "\n",
    "### Where do these functions come from?\n",
    "\n",
    "* From Python itself: They may come **from Python itself**; the print function is one of this kind; such a function is an added value received together with Python and its environment (it is **built-in**); you don't have to do anything special (e.g., ask anyone for anything) if you want to make use of it;\n",
    "* From modules: They may come from one or more of Python's add-ons named **modules**; some of the modules come with Python, others may require separate installation - whatever the case, they all need to be explicitly connected with your code (we'll show you how to do that soon);\n",
    "* From your code: You can **write them yourself**, placing as many functions as you want and need inside your program to make it simpler, clearer and more elegant.\n",
    "\n",
    "\n",
    "The name of the function should be **significant** (the name of the print function is self-evident).\n",
    "\n",
    "Of course, if you're going to make use of any already existing function, you have no influence on its name, but when you start writing your own functions, you should consider carefully your choice of names.\n",
    "\n",
    "## 1.3 Function arguments\n",
    "\n",
    "As we said before, a function may have:\n",
    "\n",
    "* an effect;\n",
    "* a result.\n",
    "\n",
    "There's also a third, very important, function component ‒ the **argument**(s).\n",
    "\n",
    "Mathematical functions usually take one argument. For example, sin(x) takes an x, which is the measure of an angle.\n",
    "\n",
    "Python functions, on the other hand, are more versatile. Depending on the individual needs, they may accept any number of arguments ‒ as many as necessary to perform their tasks. Note: When we said ***any number***, that includes zero ‒ some Python functions don't need any argument.\n",
    "\n",
    "``print(\"Hello, world!\")``\n",
    "\n",
    "In spite of the number of needed/provided arguments, Python functions strongly demand the presence of a **pair of parentheses** ‒ opening and closing ones, respectively.\n",
    "\n",
    "If you want to deliver one or more arguments to a function, you place them **inside the parentheses**. If you're going to use a function which doesn't take any argument, you still have to have the parentheses.\n",
    "\n",
    "Note: to distinguish ordinary words from function names, place a **pair of empty parentheses** after their names, even if the corresponding function wants one or more arguments. This is a standard convention.\n",
    "\n",
    "The function we're talking about here is ``print()``.\n",
    "\n",
    "Does the ``print()`` function in our example have any arguments?\n",
    "\n",
    "Of course it does, but what are they?\n",
    "\n",
    "## String as the print() function's argument\n",
    "\n",
    "The only argument delivered to the ``print()`` function in this example is a **string**:\n",
    "\n",
    "``print(\"Hello, world!\")``\n",
    "\n",
    "As you can see, the **string is delimited with quotes** ‒ in fact, the quotes make the string ‒ they cut out a part of the code and assign a different meaning to it.\n",
    "\n",
    "You can imagine that the quotes say something like: the text between us is not code. It isn't intended to be executed, and you should take it as is.\n",
    "\n",
    "Almost anything you put inside the quotes will be taken literally, not as code, but as **data**. Try to play with this particular string ‒ modify it, enter some new content, delete some of the existing content.\n",
    "\n",
    "There's more than one way to specify a string inside Python's code, but for now, though, this one is enough.\n",
    "\n",
    "So far, you have learned about two important parts of the code: the function and the string. We've talked about them in terms of syntax, but now it's time to discuss them in terms of semantics.\n",
    "\n",
    "## 1.4 Function invocation\n",
    "\n",
    "What happens when Python encounters an invocation like this one below?\n",
    "\n",
    "``function_name(argument)``\n",
    "\n",
    "Let's see:\n",
    "\n",
    "* First, Python checks if the name specified is **legal** (it browses its internal data in order to find an existing function of the name; if this search fails, Python aborts the code)\n",
    "* second, Python checks if the function's requirements for the number of arguments **allows you to invoke** the function in this way (e.g., if a specific function demands exactly two arguments, any invocation delivering only one argument will be considered erroneous, and will abort the code's execution)\n",
    "* third, Python **leaves your code for a moment** and jumps into the function you want to invoke; of course, it takes your argument(s) too and passes it/them to the function;\n",
    "* fourth, the function **executes its code**, causes the desired effect (if any), evaluates the desired result(s) (if any) and finishes its task;\n",
    "* finally, Python **returns to your code** (to the place just after the invocation) and resumes its execution.\n",
    "\n",
    "# Working with the print() function\n",
    "\n",
    "#### Scenario\n",
    "\n",
    "The ``print()`` command, which is one of the easiest directives in Python, simply prints out a line to the screen.\n",
    "\n",
    "In your first lab:\n",
    "\n",
    "* Use the ``print()`` function to print the line ``Hello, Python!`` to the screen. Use double quotes around the string.\n",
    "\n",
    "\n"
   ]
  },
  {
   "cell_type": "code",
   "execution_count": 1,
   "metadata": {},
   "outputs": [
    {
     "name": "stdout",
     "output_type": "stream",
     "text": [
      "Hello, Python!\n"
     ]
    }
   ],
   "source": [
    "print(\"Hello, Python!\")"
   ]
  },
  {
   "attachments": {},
   "cell_type": "markdown",
   "metadata": {},
   "source": [
    "* Having done that, use the ``print()`` function again, but this time print your first name.\n"
   ]
  },
  {
   "cell_type": "code",
   "execution_count": 2,
   "metadata": {},
   "outputs": [
    {
     "name": "stdout",
     "output_type": "stream",
     "text": [
      "Alex\n"
     ]
    }
   ],
   "source": [
    "print(\"Alex\")"
   ]
  },
  {
   "attachments": {},
   "cell_type": "markdown",
   "metadata": {},
   "source": [
    "* Remove the double quotes and run your code. Watch Python's reaction. What kind of error is thrown?\n"
   ]
  },
  {
   "cell_type": "code",
   "execution_count": 3,
   "metadata": {},
   "outputs": [
    {
     "ename": "NameError",
     "evalue": "name 'Alex' is not defined",
     "output_type": "error",
     "traceback": [
      "\u001b[1;31m---------------------------------------------------------------------------\u001b[0m",
      "\u001b[1;31mNameError\u001b[0m                                 Traceback (most recent call last)",
      "Cell \u001b[1;32mIn[3], line 1\u001b[0m\n\u001b[1;32m----> 1\u001b[0m \u001b[39mprint\u001b[39m(Alex)\n",
      "\u001b[1;31mNameError\u001b[0m: name 'Alex' is not defined"
     ]
    }
   ],
   "source": [
    "print(Alex)"
   ]
  },
  {
   "attachments": {},
   "cell_type": "markdown",
   "metadata": {},
   "source": [
    "* Then, remove the parentheses, put back the double quotes, and run your code again. What kind of error is thrown this time?\n"
   ]
  },
  {
   "cell_type": "code",
   "execution_count": 4,
   "metadata": {},
   "outputs": [
    {
     "ename": "SyntaxError",
     "evalue": "Missing parentheses in call to 'print'. Did you mean print(...)? (594988985.py, line 1)",
     "output_type": "error",
     "traceback": [
      "\u001b[1;36m  Cell \u001b[1;32mIn[4], line 1\u001b[1;36m\u001b[0m\n\u001b[1;33m    print\"Alex\"\u001b[0m\n\u001b[1;37m    ^\u001b[0m\n\u001b[1;31mSyntaxError\u001b[0m\u001b[1;31m:\u001b[0m Missing parentheses in call to 'print'. Did you mean print(...)?\n"
     ]
    }
   ],
   "source": [
    "print\"Alex\""
   ]
  },
  {
   "attachments": {},
   "cell_type": "markdown",
   "metadata": {},
   "source": [
    "* Experiment as much as you can. Change double quotes to single quotes, use multiple ``print()`` functions on the same line, and then on different lines. See what happens."
   ]
  },
  {
   "cell_type": "code",
   "execution_count": 8,
   "metadata": {},
   "outputs": [
    {
     "name": "stdout",
     "output_type": "stream",
     "text": [
      "Alex\n"
     ]
    }
   ],
   "source": [
    "print('Alex')"
   ]
  },
  {
   "cell_type": "code",
   "execution_count": 6,
   "metadata": {},
   "outputs": [
    {
     "ename": "SyntaxError",
     "evalue": "invalid syntax (3400907656.py, line 1)",
     "output_type": "error",
     "traceback": [
      "\u001b[1;36m  Cell \u001b[1;32mIn[6], line 1\u001b[1;36m\u001b[0m\n\u001b[1;33m    print(\"Alex\")print(\"Javier\")\u001b[0m\n\u001b[1;37m                 ^\u001b[0m\n\u001b[1;31mSyntaxError\u001b[0m\u001b[1;31m:\u001b[0m invalid syntax\n"
     ]
    }
   ],
   "source": [
    "print(\"Alex\")print(\"Javier\")"
   ]
  },
  {
   "cell_type": "code",
   "execution_count": 7,
   "metadata": {},
   "outputs": [
    {
     "name": "stdout",
     "output_type": "stream",
     "text": [
      "Alex\n",
      "Javier\n"
     ]
    }
   ],
   "source": [
    "print(\"Alex\")\n",
    "print(\"Javier\")"
   ]
  },
  {
   "attachments": {},
   "cell_type": "markdown",
   "metadata": {},
   "source": [
    "## 1.5 The print() function and its effect, arguments, and values returned "
   ]
  },
  {
   "cell_type": "code",
   "execution_count": null,
   "metadata": {},
   "outputs": [],
   "source": []
  }
 ],
 "metadata": {
  "kernelspec": {
   "display_name": "Python 3",
   "language": "python",
   "name": "python3"
  },
  "language_info": {
   "codemirror_mode": {
    "name": "ipython",
    "version": 3
   },
   "file_extension": ".py",
   "mimetype": "text/x-python",
   "name": "python",
   "nbconvert_exporter": "python",
   "pygments_lexer": "ipython3",
   "version": "3.11.2"
  },
  "orig_nbformat": 4,
  "vscode": {
   "interpreter": {
    "hash": "887180023c265c93c950f2140e1be2be161295f38f6705c3bf1e949633540fa8"
   }
  }
 },
 "nbformat": 4,
 "nbformat_minor": 2
}

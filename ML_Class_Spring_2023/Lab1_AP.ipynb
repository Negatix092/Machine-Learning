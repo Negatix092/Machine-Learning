{
  "nbformat": 4,
  "nbformat_minor": 0,
  "metadata": {
    "colab": {
      "provenance": []
    },
    "kernelspec": {
      "name": "python3",
      "display_name": "Python 3"
    },
    "language_info": {
      "name": "python"
    }
  },
  "cells": [
    {
      "cell_type": "markdown",
      "source": [
        "#Laboratorio / Regresión Lineal\n",
        "\n",
        "#Aprendizaje Automático\n",
        "\n",
        "Alex Pérez\n",
        "00329229"
      ],
      "metadata": {
        "id": "CU3qxG2QPHHQ"
      }
    },
    {
      "cell_type": "code",
      "execution_count": null,
      "metadata": {
        "id": "HuUoWCuq8EI9"
      },
      "outputs": [],
      "source": [
        "import matplotlib.pyplot as plt\n",
        "import numpy as np #matlab de python\n",
        "from sklearn import datasets, linear_model\n",
        "from sklearn.metrics import mean_squared_error, r2_score #MSE función de costo\n",
        "\n",
        "# Load the diabetes dataset\n",
        "diabetes_X_all, diabetes_y = datasets.load_diabetes(return_X_y=True)\n",
        "\n",
        "#Visualizing the dataset\n",
        "#import numpy as np\n",
        "from tabulate import tabulate\n",
        "headers = ['age','sex', 'bmi', 'bp', 's1', 's2', 's3', 's4', 's5', 's6', 'output']\n",
        "complete_table = np.column_stack([diabetes_X_all, diabetes_y]) \n",
        "table = tabulate(complete_table[0:9,:], headers, tablefmt=\"fancy_grid\")\n",
        "#print (\"Visualizing first 10 rows\")\n",
        "#print(table)"
      ]
    },
    {
      "cell_type": "markdown",
      "source": [
        "# **ACTIVIDAD**\n",
        "\n",
        "Utilizando la base de datos del punto anterior, implemente un regresor lineal de múltiples variables. Use todas las características de la base de datos. Calcule el MSE y el score R2 en el conjunton de test. Use el mismo conjunto de entrenamiento y test del punto anterior."
      ],
      "metadata": {
        "id": "9B4RDNbEH8nn"
      }
    },
    {
      "cell_type": "code",
      "source": [
        "#Since we want to use all the variables, we do not reshape diabetes_X_all as we did\n",
        "#when we used only one feature, feature 2 \n",
        "\n",
        "#Everything else is performed in a similar way as before\n",
        "\n",
        "# Split the data into training/testing sets\n",
        "diabetes_X_train = diabetes_X_all[:-20] \n",
        "diabetes_X_test = diabetes_X_all[-20:] #last 20 for test\n",
        "\n",
        "# Split the targets into training/testing sets\n",
        "diabetes_y_train = diabetes_y[:-20]\n",
        "diabetes_y_test = diabetes_y[-20:]\n",
        "\n",
        "# Create linear regression object\n",
        "regr = linear_model.LinearRegression()\n",
        "\n",
        "# normalize data to have zero mean and std one (feature scaling)\n",
        "from sklearn.preprocessing import StandardScaler\n",
        "scaler = StandardScaler()\n",
        "scaler.fit(diabetes_X_train)# scaler fit is just for training dataset \n",
        "diabetes_X_train_normalized = scaler.transform(diabetes_X_train) #normalize training set\n",
        "\n",
        "# Train the model using the training sets\n",
        "regr.fit(diabetes_X_train_normalized, diabetes_y_train) # 1. REPRESENTAR hypothesis, 2. EVALUAR MSE Error Cuadr[atico Medio 3. OPTIMIZAR (Gradient Descent)\n",
        "\n",
        "# Make predictions using the testing set\n",
        "#scaler.fit(diabetes_X_test) #EQUIVOCADO, NOOOO!!!\n",
        "diabetes_X_test_normalized = scaler.transform(diabetes_X_test) #normalize test set (do not fit scaler again!)\n",
        "diabetes_y_pred = regr.predict(diabetes_X_test_normalized)\n",
        "\n",
        "# The coefficients theta_0 (inter.), theta_1 (pendiente)\n",
        "print(\"Coefficients: \\n\", \"theta_values = \", regr.coef_, \" theta_0  = \", regr.intercept_)\n",
        "#print(\"Coefficients: \\n\", regr.coef_, regr.intercept_)\n",
        "# The mean squared error\n",
        "print(\"Mean squared error (MSE Cost): %.2f\" % mean_squared_error(diabetes_y_test, diabetes_y_pred))\n",
        "# The coefficient of determination: 1 is perfect prediction, varía entre 0 y 1\n",
        "print(\"Coefficient of determination: %.2f\" % r2_score(diabetes_y_test, diabetes_y_pred))\n",
        "\n",
        "#Since we are dealing with multiple variables, plotting the result is not a viable option\n"
      ],
      "metadata": {
        "colab": {
          "base_uri": "https://localhost:8080/"
        },
        "id": "UNdG8Z4-8S4g",
        "outputId": "8294a6a9-ce55-4b92-a8be-0b197019e382"
      },
      "execution_count": null,
      "outputs": [
        {
          "output_type": "stream",
          "name": "stdout",
          "text": [
            "Coefficients: \n",
            " theta_values =  [ 1.45070184e-02 -1.13011397e+01  2.42953223e+01  1.55991981e+01\n",
            " -3.86350110e+01  2.33851844e+01  4.81833365e+00  8.79950709e+00\n",
            "  3.56450223e+01  3.60654891e+00]  theta_0  =  153.36255924170615\n",
            "Mean squared error (MSE Cost): 2004.57\n",
            "Coefficient of determination: 0.59\n"
          ]
        }
      ]
    },
    {
      "cell_type": "markdown",
      "source": [
        "# **Actividad**\n",
        "\n",
        "* **Mejoró el valor de R2 respecto del punto anterior? Razone el por qué.**\n",
        "\n",
        "Anteriormente se obtuvo un $R^2$ de $0.47$. Al hacer un regresor lineal multivariable, el valor de $R^2$ es de $0.59$, lo que implica una mejora. Se aclara que es así puesto que mientras más cerca se esté de 1, mejor será el $R^2$. \n",
        "\n",
        "La razón de que ahora sea mejor se debe a que al hacer este regresor lineal se están teniendo en cuenta las $n$ variables $x$, por lo que se tiene en cuenta la influencia que tiene cada una al momento de determinar la salida, obteniendo una relación más cercana entre ellas.\n",
        "\n",
        "* **Cuál es la característica más importante para determinar la salida? Por qué? (Tip: observe los valores de theta)**\n",
        "\n",
        "Puesto que, observando los valores theta, el theta de la feature 2 es de $24.3$ aproximadamente, la característica más importante será la de **bmi**. Como aclaración, esto se debe a que su valor de theta es mayor que los valores de theta de todas las demás características. "
      ],
      "metadata": {
        "id": "dkD4VwsKHs9W"
      }
    },
    {
      "cell_type": "code",
      "source": [],
      "metadata": {
        "id": "DSdsnqXQPEyb"
      },
      "execution_count": null,
      "outputs": []
    }
  ]
}
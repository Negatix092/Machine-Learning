{
 "cells": [
  {
   "cell_type": "markdown",
   "metadata": {
    "id": "CeAniPtENzAl"
   },
   "source": [
    "# STUDENTS PERFORMANCE IN EXAMS - ML FINAL PROJECT\n",
    "\n",
    "Emilia Aguirre\n",
    "\n",
    "Juan Diego Luna\n",
    "\n",
    "Alex Pérez"
   ]
  },
  {
   "cell_type": "markdown",
   "metadata": {
    "id": "aYoZu9q1Dzjo"
   },
   "source": [
    "# **Introducción**\n",
    "\n",
    "El Aprendizaje Automático se ha convertido en una herramienta esencial en distintos ámbitos pues su variedad de técnicas han permitido desarrollar patrones y relaciones en conjuntos de datos grandes. Dada su importancia y relevancia, el objetivo de este trabajo es hacer uso de estas técnicas.\n",
    "\n",
    "Para desarrollar este notebook se emplea un dataset, obtenido de kaggle, que contiene información sobre el rendimiento de estudiantes en tres tipos de exámenes: Examen de Matemáticas, Examen de Lectura y Examen de Escritura. Uno de los principales objetivos de este proyecto es predecir las calificaciones de los estudiantes en base a las características (features) de background que se le son atribuídas. \n",
    "\n",
    "Entre las técnicas de implementación que se pueden encontrar en este proyecto están las siguientes: \n",
    "\n",
    "* **Feature Selection:** con la finalidad de seleccionar un subconjunto de características relevantes y útiles a partir de un conjunto de características grande. El objetivo de feature selection es mejorar la precisión y eficiencia del modelo.\n",
    "\n",
    "* **Regresión Lineal Regularizada y Regresión lineal con Múltiples inputs y múltiples outputs:** útiles para modelar datos en los que puede existir una relación lineal entre las variables de entrada y de salida del dataset.\n",
    "\n",
    "* **Repeated Stratified K-fold cross validation:** debido a su utilidad en evaluar la capacidad de generalización de un modelo. \n",
    "\n",
    "* **Pipelines:** para simplificar el proceso de construcción de modelos y poder atribuirles distintos parámetros.\n",
    "\n",
    "* **Redes Neuronales:** con la finalidad de aprender patrones complejos en los datos e intentar alcanzar un alto nivel de predicción. En el contexto de este proyecto el objetivo de las redes neuronales era optimizar su rendimiento (optimizar las capas ocultas y el número de neuronas de cada capa). Para esto se realizaron las redes neuronales con Pipelines para cada una de las asignaturas usando las bibliotecas de Keras y Scikit-learn. \n",
    "\n",
    "* **Para la optimización se hizo la busqueda de hiperparámetros con GridSearchCV.**\n",
    "\n"
   ]
  },
  {
   "cell_type": "code",
   "execution_count": 3,
   "metadata": {
    "colab": {
     "base_uri": "https://localhost:8080/",
     "height": 206
    },
    "id": "yQhWi1aVaGY1",
    "outputId": "4b9f30fb-edc7-4879-d94a-8f0b2f358c0f"
   },
   "outputs": [
    {
     "data": {
      "text/html": [
       "\n",
       "  <div id=\"df-a4d5bead-78dd-47b8-afa1-222789eef05f\">\n",
       "    <div class=\"colab-df-container\">\n",
       "      <div>\n",
       "<style scoped>\n",
       "    .dataframe tbody tr th:only-of-type {\n",
       "        vertical-align: middle;\n",
       "    }\n",
       "\n",
       "    .dataframe tbody tr th {\n",
       "        vertical-align: top;\n",
       "    }\n",
       "\n",
       "    .dataframe thead th {\n",
       "        text-align: right;\n",
       "    }\n",
       "</style>\n",
       "<table border=\"1\" class=\"dataframe\">\n",
       "  <thead>\n",
       "    <tr style=\"text-align: right;\">\n",
       "      <th></th>\n",
       "      <th>gender</th>\n",
       "      <th>race/ethnicity</th>\n",
       "      <th>parental level of education</th>\n",
       "      <th>lunch</th>\n",
       "      <th>test preparation course</th>\n",
       "      <th>math score</th>\n",
       "      <th>reading score</th>\n",
       "      <th>writing score</th>\n",
       "    </tr>\n",
       "  </thead>\n",
       "  <tbody>\n",
       "    <tr>\n",
       "      <th>0</th>\n",
       "      <td>female</td>\n",
       "      <td>group B</td>\n",
       "      <td>bachelor's degree</td>\n",
       "      <td>standard</td>\n",
       "      <td>none</td>\n",
       "      <td>72</td>\n",
       "      <td>72</td>\n",
       "      <td>74</td>\n",
       "    </tr>\n",
       "    <tr>\n",
       "      <th>1</th>\n",
       "      <td>female</td>\n",
       "      <td>group C</td>\n",
       "      <td>some college</td>\n",
       "      <td>standard</td>\n",
       "      <td>completed</td>\n",
       "      <td>69</td>\n",
       "      <td>90</td>\n",
       "      <td>88</td>\n",
       "    </tr>\n",
       "    <tr>\n",
       "      <th>2</th>\n",
       "      <td>female</td>\n",
       "      <td>group B</td>\n",
       "      <td>master's degree</td>\n",
       "      <td>standard</td>\n",
       "      <td>none</td>\n",
       "      <td>90</td>\n",
       "      <td>95</td>\n",
       "      <td>93</td>\n",
       "    </tr>\n",
       "    <tr>\n",
       "      <th>3</th>\n",
       "      <td>male</td>\n",
       "      <td>group A</td>\n",
       "      <td>associate's degree</td>\n",
       "      <td>free/reduced</td>\n",
       "      <td>none</td>\n",
       "      <td>47</td>\n",
       "      <td>57</td>\n",
       "      <td>44</td>\n",
       "    </tr>\n",
       "    <tr>\n",
       "      <th>4</th>\n",
       "      <td>male</td>\n",
       "      <td>group C</td>\n",
       "      <td>some college</td>\n",
       "      <td>standard</td>\n",
       "      <td>none</td>\n",
       "      <td>76</td>\n",
       "      <td>78</td>\n",
       "      <td>75</td>\n",
       "    </tr>\n",
       "  </tbody>\n",
       "</table>\n",
       "</div>\n",
       "      <button class=\"colab-df-convert\" onclick=\"convertToInteractive('df-a4d5bead-78dd-47b8-afa1-222789eef05f')\"\n",
       "              title=\"Convert this dataframe to an interactive table.\"\n",
       "              style=\"display:none;\">\n",
       "        \n",
       "  <svg xmlns=\"http://www.w3.org/2000/svg\" height=\"24px\"viewBox=\"0 0 24 24\"\n",
       "       width=\"24px\">\n",
       "    <path d=\"M0 0h24v24H0V0z\" fill=\"none\"/>\n",
       "    <path d=\"M18.56 5.44l.94 2.06.94-2.06 2.06-.94-2.06-.94-.94-2.06-.94 2.06-2.06.94zm-11 1L8.5 8.5l.94-2.06 2.06-.94-2.06-.94L8.5 2.5l-.94 2.06-2.06.94zm10 10l.94 2.06.94-2.06 2.06-.94-2.06-.94-.94-2.06-.94 2.06-2.06.94z\"/><path d=\"M17.41 7.96l-1.37-1.37c-.4-.4-.92-.59-1.43-.59-.52 0-1.04.2-1.43.59L10.3 9.45l-7.72 7.72c-.78.78-.78 2.05 0 2.83L4 21.41c.39.39.9.59 1.41.59.51 0 1.02-.2 1.41-.59l7.78-7.78 2.81-2.81c.8-.78.8-2.07 0-2.86zM5.41 20L4 18.59l7.72-7.72 1.47 1.35L5.41 20z\"/>\n",
       "  </svg>\n",
       "      </button>\n",
       "      \n",
       "  <style>\n",
       "    .colab-df-container {\n",
       "      display:flex;\n",
       "      flex-wrap:wrap;\n",
       "      gap: 12px;\n",
       "    }\n",
       "\n",
       "    .colab-df-convert {\n",
       "      background-color: #E8F0FE;\n",
       "      border: none;\n",
       "      border-radius: 50%;\n",
       "      cursor: pointer;\n",
       "      display: none;\n",
       "      fill: #1967D2;\n",
       "      height: 32px;\n",
       "      padding: 0 0 0 0;\n",
       "      width: 32px;\n",
       "    }\n",
       "\n",
       "    .colab-df-convert:hover {\n",
       "      background-color: #E2EBFA;\n",
       "      box-shadow: 0px 1px 2px rgba(60, 64, 67, 0.3), 0px 1px 3px 1px rgba(60, 64, 67, 0.15);\n",
       "      fill: #174EA6;\n",
       "    }\n",
       "\n",
       "    [theme=dark] .colab-df-convert {\n",
       "      background-color: #3B4455;\n",
       "      fill: #D2E3FC;\n",
       "    }\n",
       "\n",
       "    [theme=dark] .colab-df-convert:hover {\n",
       "      background-color: #434B5C;\n",
       "      box-shadow: 0px 1px 3px 1px rgba(0, 0, 0, 0.15);\n",
       "      filter: drop-shadow(0px 1px 2px rgba(0, 0, 0, 0.3));\n",
       "      fill: #FFFFFF;\n",
       "    }\n",
       "  </style>\n",
       "\n",
       "      <script>\n",
       "        const buttonEl =\n",
       "          document.querySelector('#df-a4d5bead-78dd-47b8-afa1-222789eef05f button.colab-df-convert');\n",
       "        buttonEl.style.display =\n",
       "          google.colab.kernel.accessAllowed ? 'block' : 'none';\n",
       "\n",
       "        async function convertToInteractive(key) {\n",
       "          const element = document.querySelector('#df-a4d5bead-78dd-47b8-afa1-222789eef05f');\n",
       "          const dataTable =\n",
       "            await google.colab.kernel.invokeFunction('convertToInteractive',\n",
       "                                                     [key], {});\n",
       "          if (!dataTable) return;\n",
       "\n",
       "          const docLinkHtml = 'Like what you see? Visit the ' +\n",
       "            '<a target=\"_blank\" href=https://colab.research.google.com/notebooks/data_table.ipynb>data table notebook</a>'\n",
       "            + ' to learn more about interactive tables.';\n",
       "          element.innerHTML = '';\n",
       "          dataTable['output_type'] = 'display_data';\n",
       "          await google.colab.output.renderOutput(dataTable, element);\n",
       "          const docLink = document.createElement('div');\n",
       "          docLink.innerHTML = docLinkHtml;\n",
       "          element.appendChild(docLink);\n",
       "        }\n",
       "      </script>\n",
       "    </div>\n",
       "  </div>\n",
       "  "
      ],
      "text/plain": [
       "   gender race/ethnicity parental level of education         lunch  \\\n",
       "0  female        group B           bachelor's degree      standard   \n",
       "1  female        group C                some college      standard   \n",
       "2  female        group B             master's degree      standard   \n",
       "3    male        group A          associate's degree  free/reduced   \n",
       "4    male        group C                some college      standard   \n",
       "\n",
       "  test preparation course  math score  reading score  writing score  \n",
       "0                    none          72             72             74  \n",
       "1               completed          69             90             88  \n",
       "2                    none          90             95             93  \n",
       "3                    none          47             57             44  \n",
       "4                    none          76             78             75  "
      ]
     },
     "execution_count": 3,
     "metadata": {},
     "output_type": "execute_result"
    }
   ],
   "source": [
    "import pandas as pd\n",
    "import numpy as np\n",
    "import matplotlib.pyplot as plt\n",
    "  \n",
    "# reading the csv file\n",
    "dataset = \"https://raw.githubusercontent.com/Negatix092/Machine-Learning/main/ML_Class_Spring_2023/Proyecto_Final/StudentsPerformance.csv\"\n",
    "df = pd.read_csv(dataset)\n",
    "\n",
    "df.head()"
   ]
  },
  {
   "cell_type": "markdown",
   "metadata": {
    "id": "7FQwOUA2aZtd"
   },
   "source": [
    "# Dataset\n",
    "\n",
    "Este dataset tiene un total de datos correspondiente a 1000 alumnos, con 5 características de los mismos. Los outputs que nos interesan son 3 y representan las últimas 3 filas del dataset: calificación de matemáticas, calificación de lectura y calificación de escritura.\n",
    "\n",
    "#Detalle del Dataset\n",
    "\n",
    "* ```gender``` -- ['male', 'female']\n",
    "* ```race/ethnicity``` -- ['group A', 'group B', 'group C', 'group D', 'group E']\n",
    "* ```parental level of education``` -- ['some high school', 'high school', \"bachelor's degree\", 'some college', \"master's degree\", \"associate's degree\"]\n",
    "* ```lunch``` -- ['standard', 'free/reduced']\n",
    "* ```test preparation course``` -- ['none', 'completed']\n",
    "* ```math score``` - Student unique math score\n",
    "* ```reading score``` - Student unique reading score\n",
    "* ```writing score``` - Student unique writin score\n"
   ]
  },
  {
   "cell_type": "code",
   "execution_count": 4,
   "metadata": {
    "colab": {
     "base_uri": "https://localhost:8080/",
     "height": 635
    },
    "id": "orA1UnDcaQLw",
    "outputId": "6516c11c-fbfd-4d25-dfd7-417fa1db4fac"
   },
   "outputs": [
    {
     "name": "stdout",
     "output_type": "stream",
     "text": [
      "gender \n",
      " [0 1]\n",
      "lunch \n",
      " [0 1]\n",
      "test preparation course \n",
      " [0 1]\n",
      "Processed dataset before dummies: \n",
      "# Attributes:  8 \n",
      "# Entries:  1000 \n",
      "\n",
      "Original dataset: \n",
      "# Attributes:  8 \n",
      "# Entries:  1000 \n",
      "\n",
      "Processed dataset: \n",
      "# Attributes:  17 \n",
      "# Entries:  1000 \n",
      "\n"
     ]
    },
    {
     "data": {
      "text/html": [
       "\n",
       "  <div id=\"df-53667708-0b21-4e50-8324-a4baa2c0b7d6\">\n",
       "    <div class=\"colab-df-container\">\n",
       "      <div>\n",
       "<style scoped>\n",
       "    .dataframe tbody tr th:only-of-type {\n",
       "        vertical-align: middle;\n",
       "    }\n",
       "\n",
       "    .dataframe tbody tr th {\n",
       "        vertical-align: top;\n",
       "    }\n",
       "\n",
       "    .dataframe thead th {\n",
       "        text-align: right;\n",
       "    }\n",
       "</style>\n",
       "<table border=\"1\" class=\"dataframe\">\n",
       "  <thead>\n",
       "    <tr style=\"text-align: right;\">\n",
       "      <th></th>\n",
       "      <th>gender</th>\n",
       "      <th>lunch</th>\n",
       "      <th>test preparation course</th>\n",
       "      <th>math score</th>\n",
       "      <th>reading score</th>\n",
       "      <th>writing score</th>\n",
       "      <th>race/ethnicity_group A</th>\n",
       "      <th>race/ethnicity_group B</th>\n",
       "      <th>race/ethnicity_group C</th>\n",
       "      <th>race/ethnicity_group D</th>\n",
       "      <th>race/ethnicity_group E</th>\n",
       "      <th>parental level of education_associate's degree</th>\n",
       "      <th>parental level of education_bachelor's degree</th>\n",
       "      <th>parental level of education_high school</th>\n",
       "      <th>parental level of education_master's degree</th>\n",
       "      <th>parental level of education_some college</th>\n",
       "      <th>parental level of education_some high school</th>\n",
       "    </tr>\n",
       "  </thead>\n",
       "  <tbody>\n",
       "    <tr>\n",
       "      <th>0</th>\n",
       "      <td>0</td>\n",
       "      <td>1</td>\n",
       "      <td>1</td>\n",
       "      <td>72</td>\n",
       "      <td>72</td>\n",
       "      <td>74</td>\n",
       "      <td>0</td>\n",
       "      <td>1</td>\n",
       "      <td>0</td>\n",
       "      <td>0</td>\n",
       "      <td>0</td>\n",
       "      <td>0</td>\n",
       "      <td>1</td>\n",
       "      <td>0</td>\n",
       "      <td>0</td>\n",
       "      <td>0</td>\n",
       "      <td>0</td>\n",
       "    </tr>\n",
       "    <tr>\n",
       "      <th>1</th>\n",
       "      <td>0</td>\n",
       "      <td>1</td>\n",
       "      <td>0</td>\n",
       "      <td>69</td>\n",
       "      <td>90</td>\n",
       "      <td>88</td>\n",
       "      <td>0</td>\n",
       "      <td>0</td>\n",
       "      <td>1</td>\n",
       "      <td>0</td>\n",
       "      <td>0</td>\n",
       "      <td>0</td>\n",
       "      <td>0</td>\n",
       "      <td>0</td>\n",
       "      <td>0</td>\n",
       "      <td>1</td>\n",
       "      <td>0</td>\n",
       "    </tr>\n",
       "    <tr>\n",
       "      <th>2</th>\n",
       "      <td>0</td>\n",
       "      <td>1</td>\n",
       "      <td>1</td>\n",
       "      <td>90</td>\n",
       "      <td>95</td>\n",
       "      <td>93</td>\n",
       "      <td>0</td>\n",
       "      <td>1</td>\n",
       "      <td>0</td>\n",
       "      <td>0</td>\n",
       "      <td>0</td>\n",
       "      <td>0</td>\n",
       "      <td>0</td>\n",
       "      <td>0</td>\n",
       "      <td>1</td>\n",
       "      <td>0</td>\n",
       "      <td>0</td>\n",
       "    </tr>\n",
       "    <tr>\n",
       "      <th>3</th>\n",
       "      <td>1</td>\n",
       "      <td>0</td>\n",
       "      <td>1</td>\n",
       "      <td>47</td>\n",
       "      <td>57</td>\n",
       "      <td>44</td>\n",
       "      <td>1</td>\n",
       "      <td>0</td>\n",
       "      <td>0</td>\n",
       "      <td>0</td>\n",
       "      <td>0</td>\n",
       "      <td>1</td>\n",
       "      <td>0</td>\n",
       "      <td>0</td>\n",
       "      <td>0</td>\n",
       "      <td>0</td>\n",
       "      <td>0</td>\n",
       "    </tr>\n",
       "    <tr>\n",
       "      <th>4</th>\n",
       "      <td>1</td>\n",
       "      <td>1</td>\n",
       "      <td>1</td>\n",
       "      <td>76</td>\n",
       "      <td>78</td>\n",
       "      <td>75</td>\n",
       "      <td>0</td>\n",
       "      <td>0</td>\n",
       "      <td>1</td>\n",
       "      <td>0</td>\n",
       "      <td>0</td>\n",
       "      <td>0</td>\n",
       "      <td>0</td>\n",
       "      <td>0</td>\n",
       "      <td>0</td>\n",
       "      <td>1</td>\n",
       "      <td>0</td>\n",
       "    </tr>\n",
       "  </tbody>\n",
       "</table>\n",
       "</div>\n",
       "      <button class=\"colab-df-convert\" onclick=\"convertToInteractive('df-53667708-0b21-4e50-8324-a4baa2c0b7d6')\"\n",
       "              title=\"Convert this dataframe to an interactive table.\"\n",
       "              style=\"display:none;\">\n",
       "        \n",
       "  <svg xmlns=\"http://www.w3.org/2000/svg\" height=\"24px\"viewBox=\"0 0 24 24\"\n",
       "       width=\"24px\">\n",
       "    <path d=\"M0 0h24v24H0V0z\" fill=\"none\"/>\n",
       "    <path d=\"M18.56 5.44l.94 2.06.94-2.06 2.06-.94-2.06-.94-.94-2.06-.94 2.06-2.06.94zm-11 1L8.5 8.5l.94-2.06 2.06-.94-2.06-.94L8.5 2.5l-.94 2.06-2.06.94zm10 10l.94 2.06.94-2.06 2.06-.94-2.06-.94-.94-2.06-.94 2.06-2.06.94z\"/><path d=\"M17.41 7.96l-1.37-1.37c-.4-.4-.92-.59-1.43-.59-.52 0-1.04.2-1.43.59L10.3 9.45l-7.72 7.72c-.78.78-.78 2.05 0 2.83L4 21.41c.39.39.9.59 1.41.59.51 0 1.02-.2 1.41-.59l7.78-7.78 2.81-2.81c.8-.78.8-2.07 0-2.86zM5.41 20L4 18.59l7.72-7.72 1.47 1.35L5.41 20z\"/>\n",
       "  </svg>\n",
       "      </button>\n",
       "      \n",
       "  <style>\n",
       "    .colab-df-container {\n",
       "      display:flex;\n",
       "      flex-wrap:wrap;\n",
       "      gap: 12px;\n",
       "    }\n",
       "\n",
       "    .colab-df-convert {\n",
       "      background-color: #E8F0FE;\n",
       "      border: none;\n",
       "      border-radius: 50%;\n",
       "      cursor: pointer;\n",
       "      display: none;\n",
       "      fill: #1967D2;\n",
       "      height: 32px;\n",
       "      padding: 0 0 0 0;\n",
       "      width: 32px;\n",
       "    }\n",
       "\n",
       "    .colab-df-convert:hover {\n",
       "      background-color: #E2EBFA;\n",
       "      box-shadow: 0px 1px 2px rgba(60, 64, 67, 0.3), 0px 1px 3px 1px rgba(60, 64, 67, 0.15);\n",
       "      fill: #174EA6;\n",
       "    }\n",
       "\n",
       "    [theme=dark] .colab-df-convert {\n",
       "      background-color: #3B4455;\n",
       "      fill: #D2E3FC;\n",
       "    }\n",
       "\n",
       "    [theme=dark] .colab-df-convert:hover {\n",
       "      background-color: #434B5C;\n",
       "      box-shadow: 0px 1px 3px 1px rgba(0, 0, 0, 0.15);\n",
       "      filter: drop-shadow(0px 1px 2px rgba(0, 0, 0, 0.3));\n",
       "      fill: #FFFFFF;\n",
       "    }\n",
       "  </style>\n",
       "\n",
       "      <script>\n",
       "        const buttonEl =\n",
       "          document.querySelector('#df-53667708-0b21-4e50-8324-a4baa2c0b7d6 button.colab-df-convert');\n",
       "        buttonEl.style.display =\n",
       "          google.colab.kernel.accessAllowed ? 'block' : 'none';\n",
       "\n",
       "        async function convertToInteractive(key) {\n",
       "          const element = document.querySelector('#df-53667708-0b21-4e50-8324-a4baa2c0b7d6');\n",
       "          const dataTable =\n",
       "            await google.colab.kernel.invokeFunction('convertToInteractive',\n",
       "                                                     [key], {});\n",
       "          if (!dataTable) return;\n",
       "\n",
       "          const docLinkHtml = 'Like what you see? Visit the ' +\n",
       "            '<a target=\"_blank\" href=https://colab.research.google.com/notebooks/data_table.ipynb>data table notebook</a>'\n",
       "            + ' to learn more about interactive tables.';\n",
       "          element.innerHTML = '';\n",
       "          dataTable['output_type'] = 'display_data';\n",
       "          await google.colab.output.renderOutput(dataTable, element);\n",
       "          const docLink = document.createElement('div');\n",
       "          docLink.innerHTML = docLinkHtml;\n",
       "          element.appendChild(docLink);\n",
       "        }\n",
       "      </script>\n",
       "    </div>\n",
       "  </div>\n",
       "  "
      ],
      "text/plain": [
       "   gender  lunch  test preparation course  math score  reading score  \\\n",
       "0       0      1                        1          72             72   \n",
       "1       0      1                        0          69             90   \n",
       "2       0      1                        1          90             95   \n",
       "3       1      0                        1          47             57   \n",
       "4       1      1                        1          76             78   \n",
       "\n",
       "   writing score  race/ethnicity_group A  race/ethnicity_group B  \\\n",
       "0             74                       0                       1   \n",
       "1             88                       0                       0   \n",
       "2             93                       0                       1   \n",
       "3             44                       1                       0   \n",
       "4             75                       0                       0   \n",
       "\n",
       "   race/ethnicity_group C  race/ethnicity_group D  race/ethnicity_group E  \\\n",
       "0                       0                       0                       0   \n",
       "1                       1                       0                       0   \n",
       "2                       0                       0                       0   \n",
       "3                       0                       0                       0   \n",
       "4                       1                       0                       0   \n",
       "\n",
       "   parental level of education_associate's degree  \\\n",
       "0                                               0   \n",
       "1                                               0   \n",
       "2                                               0   \n",
       "3                                               1   \n",
       "4                                               0   \n",
       "\n",
       "   parental level of education_bachelor's degree  \\\n",
       "0                                              1   \n",
       "1                                              0   \n",
       "2                                              0   \n",
       "3                                              0   \n",
       "4                                              0   \n",
       "\n",
       "   parental level of education_high school  \\\n",
       "0                                        0   \n",
       "1                                        0   \n",
       "2                                        0   \n",
       "3                                        0   \n",
       "4                                        0   \n",
       "\n",
       "   parental level of education_master's degree  \\\n",
       "0                                            0   \n",
       "1                                            0   \n",
       "2                                            1   \n",
       "3                                            0   \n",
       "4                                            0   \n",
       "\n",
       "   parental level of education_some college  \\\n",
       "0                                         0   \n",
       "1                                         1   \n",
       "2                                         0   \n",
       "3                                         0   \n",
       "4                                         1   \n",
       "\n",
       "   parental level of education_some high school  \n",
       "0                                             0  \n",
       "1                                             0  \n",
       "2                                             0  \n",
       "3                                             0  \n",
       "4                                             0  "
      ]
     },
     "execution_count": 4,
     "metadata": {},
     "output_type": "execute_result"
    }
   ],
   "source": [
    "#preparacion del dataset\n",
    "from sklearn.metrics import classification_report  \n",
    "from sklearn.metrics import confusion_matrix  \n",
    "from sklearn.metrics import accuracy_score\n",
    "from sklearn.metrics import roc_auc_score\n",
    "from sklearn.preprocessing import StandardScaler, LabelEncoder\n",
    "from sklearn.model_selection import train_test_split\n",
    "\n",
    "#outputs\n",
    "score_output_Math = 'math score'\n",
    "score_output_Reading = 'reading score'\n",
    "score_output_Writing = 'writing score'\n",
    "\n",
    "#en la lista binary_feat se almacenan los nombres de las columnas (del dataset) que solamente tienen dos valores diferentes.\n",
    "binary_feat = df.nunique()[df.nunique() == 2].keys().tolist()\n",
    "#en la lista numeric_feat se almacenan los nombres de las columnas (del dataset) que solamente contienen datos numericos, sean tipo int o float, y que no tienen solo dos valores diferentes\n",
    "numeric_feat = [col for col in df.select_dtypes(['float','int']).columns.tolist() if col not in binary_feat]\n",
    "#en la lista categorical_feat se almacenan los nombres de las columnas (del dataset) que tienen datos no numericos y que no tienen solo dos valores diferentes.\n",
    "categorical_feat = [ col for col in df.select_dtypes('object').columns.to_list() if col not in binary_feat + numeric_feat ]\n",
    "#una copa del dataframe (dataset) se almacena en un nuevo dataframe para trabajarlo, df_proc\n",
    "df_proc = df.copy()\n",
    "\n",
    "#Etiquetas para características binarias\n",
    "#aqui se transforman los binary features (solo dos valores diferentes) a valores numericos usando LabelEncoder\n",
    "le = LabelEncoder()\n",
    "for i in binary_feat:\n",
    "  df_proc[i] = le.fit_transform(df_proc[i])\n",
    "  print(i, '\\n', np.unique(df_proc[i].values))\n",
    "\n",
    "def get_df_size(df, header='Dataset dimensions'):\n",
    "  print(header,\n",
    "        '\\n# Attributes: ', df.shape[1], \n",
    "        '\\n# Entries: ', df.shape[0],'\\n')\n",
    "  \n",
    "#Dummy variables\n",
    "#se crean variables dummy para las categorical features\n",
    "#a cada categorical feature se la convierte en multiples binary features, con un valor posible (0 o 1) para cada categorical feature original\n",
    "# es decir, one-hot encoding se aplica a las categorical features\n",
    "get_df_size(df_proc, header='Processed dataset before dummies:')\n",
    "df_proc = pd.get_dummies(df_proc, columns=categorical_feat)\n",
    "get_df_size(df, header='Original dataset:')\n",
    "get_df_size(df_proc, header='Processed dataset:')\n",
    "df_proc.head()"
   ]
  },
  {
   "cell_type": "code",
   "execution_count": 5,
   "metadata": {
    "colab": {
     "base_uri": "https://localhost:8080/",
     "height": 719
    },
    "id": "7PpzdTye2V_C",
    "outputId": "c59c1312-8b48-4740-a0d8-b0d3047c36d9"
   },
   "outputs": [
    {
     "data": {
      "image/png": "[encoded data removed]",
      "text/plain": [
       "<Figure size 1000x800 with 2 Axes>"
      ]
     },
     "metadata": {},
     "output_type": "display_data"
    }
   ],
   "source": [
    "import numpy as np\n",
    "from sklearn.manifold import TSNE\n",
    "import matplotlib.pyplot as plt\n",
    "\n",
    "# Seleccionamos las columnas que vamos a utilizar\n",
    "#X = df_proc.iloc[:, [0,1,2,6,7,8,9,10,11,12,13,14,15,16]].values\n",
    "x=df_proc\n",
    "X=df_proc.drop(columns =['math score','reading score','writing score'], axis=1)\n",
    "#y = df_proc.iloc[:, 3:6].values\n",
    "\n",
    "from scipy.stats import zscore\n",
    "\n",
    "X_normalized = X.apply(zscore)\n",
    "\n",
    "tsne = TSNE(n_components=2, perplexity=30, learning_rate=200)\n",
    "X_tsne = tsne.fit_transform(X_normalized)\n",
    "\n",
    "# Get the indices of the output columns\n",
    "output_indices = [3, 4, 5]\n",
    "output_labels = ['Math Score', 'Reading Score', 'Writing Score']\n",
    "\n",
    "# Plot the data points with different colors for each output column\n",
    "plt.figure(figsize=(10, 8))\n",
    "for i in range(len(output_indices)):\n",
    "    idx = output_indices[i]\n",
    "    il = output_labels[i]\n",
    "    plt.scatter(X_tsne[:, 0], X_tsne[:, 1], c=x.iloc[:, idx].values, cmap='viridis', label=f'{il}')\n",
    "plt.colorbar()\n",
    "plt.title('t-SNE Visualization', fontsize=14)\n",
    "plt.xlabel('Multiple Input (X)')\n",
    "plt.ylabel('Multiple Output (Y)')\n",
    "plt.legend()\n",
    "plt.show()"
   ]
  },
  {
   "cell_type": "markdown",
   "metadata": {
    "id": "f9mgegWN2vgv"
   },
   "source": [
    "\n",
    "\n",
    "[1]\n"
   ]
  },
  {
   "cell_type": "markdown",
   "metadata": {
    "id": "7T2oK45l3ECg"
   },
   "source": [
    "[2] "
   ]
  },
  {
   "cell_type": "markdown",
   "metadata": {
    "id": "6NhU4vUcAmb3"
   },
   "source": [
    "# Punto 1: Multiple Input & Only One Output"
   ]
  },
  {
   "cell_type": "code",
   "execution_count": 6,
   "metadata": {
    "id": "ML0lR-MujyB1"
   },
   "outputs": [],
   "source": [
    "# inputs y outputs\n",
    "math_score_Y = df_proc['math score']\n",
    "reading_score_Y = df_proc['reading score']\n",
    "writing_score_Y = df_proc['writing score']\n",
    "\n",
    "all_X=df_proc.drop(columns =['math score','reading score','writing score'], axis=1)\n",
    "\n",
    "#all_Y=df_proc['math score','reading score', 'writing score']\n",
    "\n",
    "# Dividimos el conjunto de entrenamiento y test\n",
    "all_X_values_train = all_X[:-200] \n",
    "all_X_values_test = all_X[-200:] #last 200 for test\n",
    "\n",
    "#split the targets into training/testing sets\n",
    "math_score_Y_train = math_score_Y[:-200]\n",
    "math_score_Y_test = math_score_Y[-200:] \n",
    "\n",
    "#split the targets into training/testing sets\n",
    "writing_score_Y_train = writing_score_Y[:-200]\n",
    "writing_score_Y_test = writing_score_Y[-200:] \n",
    "\n",
    "#split the targets into training/testing sets\n",
    "reading_score_Y_train = reading_score_Y[:-200]\n",
    "reading_score_Y_test = reading_score_Y[-200:] "
   ]
  },
  {
   "cell_type": "code",
   "execution_count": 7,
   "metadata": {
    "colab": {
     "base_uri": "https://localhost:8080/"
    },
    "id": "Cdhyhv4z3Wun",
    "outputId": "b3e69683-1f8f-49ea-a6a0-732d61b1a8ff"
   },
   "outputs": [
    {
     "data": {
      "text/plain": [
       "(800, 14)"
      ]
     },
     "execution_count": 7,
     "metadata": {},
     "output_type": "execute_result"
    }
   ],
   "source": [
    "all_X_values_train.shape"
   ]
  },
  {
   "cell_type": "code",
   "execution_count": 8,
   "metadata": {
    "colab": {
     "base_uri": "https://localhost:8080/"
    },
    "id": "Io-hLbnL3n4G",
    "outputId": "16c426e7-1381-451b-9b85-59398b1169b0"
   },
   "outputs": [
    {
     "name": "stderr",
     "output_type": "stream",
     "text": [
      "/usr/local/lib/python3.10/dist-packages/sklearn/model_selection/_split.py:700: UserWarning: The least populated class in y has only 1 members, which is less than n_splits=5.\n",
      "  warnings.warn(\n",
      "/usr/local/lib/python3.10/dist-packages/sklearn/model_selection/_split.py:700: UserWarning: The least populated class in y has only 1 members, which is less than n_splits=5.\n",
      "  warnings.warn(\n",
      "/usr/local/lib/python3.10/dist-packages/sklearn/model_selection/_split.py:700: UserWarning: The least populated class in y has only 1 members, which is less than n_splits=5.\n",
      "  warnings.warn(\n",
      "/usr/local/lib/python3.10/dist-packages/sklearn/model_selection/_split.py:700: UserWarning: The least populated class in y has only 1 members, which is less than n_splits=5.\n",
      "  warnings.warn(\n"
     ]
    },
    {
     "name": "stdout",
     "output_type": "stream",
     "text": [
      "Los mejores hiperparámetros para Lasso son: {'model__alpha': 0.1, 'model__max_iter': 1000, 'model__tol': 1e-05, 'poly__degree': 1, 'selector__k': 14}\n",
      "Los mejores hiperparámetros para Ridge son: {'model__alpha': 10, 'model__max_iter': 1000, 'model__tol': 0.001, 'poly__degree': 1, 'selector__k': 14}\n"
     ]
    }
   ],
   "source": [
    "from sklearn.linear_model import Lasso, Ridge\n",
    "from sklearn.feature_selection import SelectFromModel\n",
    "from sklearn.pipeline import Pipeline\n",
    "from sklearn.model_selection import RepeatedStratifiedKFold, GridSearchCV\n",
    "from sklearn.preprocessing import PolynomialFeatures, StandardScaler\n",
    "from sklearn.metrics import mean_squared_error\n",
    "from sklearn.metrics import r2_score\n",
    "from sklearn.feature_selection import SelectKBest, f_regression\n",
    "from scipy.stats import ttest_rel\n",
    "\n",
    "#tenemos que usar pipelines, entonces cada tecnica de ML tendra su pipeline\n",
    "#como uno de los requisitos es que al menos una tecnica de ML sea Regresion Lineal Regularizada\n",
    "#hacemos el pipe para Lasso\n",
    "# define pipelines\n",
    "\n",
    "pipeline_L = Pipeline([\n",
    "    \n",
    "    ('scaler', StandardScaler()),\n",
    "    ('selector', SelectKBest(score_func=f_regression)),\n",
    "    ('poly', PolynomialFeatures()),\n",
    "    #('feature_selection', SelectFromModel(Lasso())),\n",
    "    ('model', Lasso())\n",
    "])\n",
    "\n",
    "#hacemos el pipe para Ridge, con el fin de compararlo con Lasso\n",
    "pipeline_R = Pipeline([\n",
    "    ('scaler', StandardScaler()),\n",
    "    ('selector', SelectKBest(score_func=f_regression)),\n",
    "    ('poly', PolynomialFeatures()),\n",
    "    #('feature_sel', SelectFromModel(Lasso())),\n",
    "    ('model', Ridge())\n",
    "])\n",
    "\n",
    "#estos parametros son necesarios para realizar la optimizacion del modelo(encontrar los mejores hiperparametros)\n",
    "p_L = {'selector__k': range(1, 15),\n",
    "       'poly__degree':[0,1,2], \n",
    "       'model__alpha': [0.1, 1, 10, 100],\n",
    "       'model__max_iter': [1000, 5000],\n",
    "       'model__tol': [1e-3, 1e-5]}\n",
    "\n",
    "p_R = {'selector__k': range(1, 15),\n",
    "       'poly__degree':[0,1,2], \n",
    "       'model__alpha': [0.1, 1, 10, 100],\n",
    "       'model__max_iter': [1000, 5000],\n",
    "       'model__tol': [1e-3, 1e-5]}\n",
    "\n",
    "#repeated k-fold cross validation\n",
    "#Consulte qué quiere decir estratificado y por qué usted debe o no usarlo en su problema\n",
    "#\n",
    "cv = RepeatedStratifiedKFold(n_splits=5, n_repeats=2, random_state=26)\n",
    "\n",
    "#se usa grid search para optimizar los parametros, el conjunto de validacion se utiliza repeated stratified k fold\n",
    "lasso_search = GridSearchCV(pipeline_L, p_L, cv=cv, scoring='neg_mean_squared_error')\n",
    "ridge_search = GridSearchCV(pipeline_R, p_R, cv=cv, scoring='neg_mean_squared_error')\n",
    "\n",
    "#se hace el fit de cada regresion\n",
    "result_lasso = lasso_search.fit(all_X_values_train, math_score_Y_train)\n",
    "result_ridge = ridge_search.fit(all_X_values_train, math_score_Y_train)\n",
    "\n",
    "#se quiere encontrar los mejores hiperparametros\n",
    "best_hp_lasso = result_lasso.best_params_\n",
    "best_hp_ridge = result_ridge.best_params_\n",
    "print(\"Los mejores hiperparámetros para Lasso son:\", best_hp_lasso)\n",
    "print(\"Los mejores hiperparámetros para Ridge son:\", best_hp_ridge) "
   ]
  },
  {
   "cell_type": "code",
   "execution_count": 9,
   "metadata": {
    "colab": {
     "base_uri": "https://localhost:8080/"
    },
    "id": "Y0TICo5S5O1f",
    "outputId": "9dafced9-3b3c-4ff8-b6c7-b2e5ce25308e"
   },
   "outputs": [
    {
     "data": {
      "text/plain": [
       "(800,)"
      ]
     },
     "execution_count": 9,
     "metadata": {},
     "output_type": "execute_result"
    }
   ],
   "source": [
    "math_score_Y_train.shape"
   ]
  },
  {
   "cell_type": "markdown",
   "metadata": {
    "id": "4R3zjaYj5Uib"
   },
   "source": [
    "\n",
    "\n",
    "[3] \n",
    "\n",
    "[4] \n",
    "\n",
    "[5] "
   ]
  },
  {
   "cell_type": "code",
   "execution_count": 10,
   "metadata": {
    "colab": {
     "base_uri": "https://localhost:8080/"
    },
    "id": "ZxtJa14x5ZKh",
    "outputId": "9c612608-c81a-43d6-a20c-b0e699777f3d"
   },
   "outputs": [
    {
     "name": "stderr",
     "output_type": "stream",
     "text": [
      "/usr/local/lib/python3.10/dist-packages/sklearn/model_selection/_split.py:700: UserWarning: The least populated class in y has only 1 members, which is less than n_splits=5.\n",
      "  warnings.warn(\n",
      "/usr/local/lib/python3.10/dist-packages/sklearn/model_selection/_split.py:700: UserWarning: The least populated class in y has only 1 members, which is less than n_splits=5.\n",
      "  warnings.warn(\n",
      "/usr/local/lib/python3.10/dist-packages/sklearn/model_selection/_split.py:700: UserWarning: The least populated class in y has only 1 members, which is less than n_splits=5.\n",
      "  warnings.warn(\n"
     ]
    },
    {
     "name": "stdout",
     "output_type": "stream",
     "text": [
      "Lasso: 0.22 (+/- 0.12)\n",
      "Ridge: 0.22 (+/- 0.12)\n"
     ]
    },
    {
     "name": "stderr",
     "output_type": "stream",
     "text": [
      "/usr/local/lib/python3.10/dist-packages/sklearn/model_selection/_split.py:700: UserWarning: The least populated class in y has only 1 members, which is less than n_splits=5.\n",
      "  warnings.warn(\n"
     ]
    }
   ],
   "source": [
    "from sklearn.model_selection import cross_val_score\n",
    "#conociendo ya los modelos con sus mejores parametros, se vuelve a definir sus pipelines\n",
    "pipeline_L_best = Pipeline([\n",
    "    \n",
    "    ('scaler', StandardScaler()),\n",
    "    ('selector', SelectKBest(score_func=f_regression, k=best_hp_lasso['selector__k'])),\n",
    "    ('poly', PolynomialFeatures(degree=best_hp_lasso['poly__degree'])),\n",
    "    ('model', Lasso(alpha=best_hp_lasso['model__alpha'], max_iter=best_hp_lasso['model__max_iter'], tol=best_hp_lasso['model__tol']))\n",
    "    #('model', Lasso(alpha=best_hp_lasso['model__alpha']))\n",
    "])\n",
    "\n",
    "#hacemos el pipe para Ridge, con el fin de compararlo con Lasso\n",
    "pipeline_R_best = Pipeline([\n",
    "    \n",
    "    ('scaler', StandardScaler()),\n",
    "    ('selector', SelectKBest(score_func=f_regression, k=best_hp_ridge['selector__k'])),\n",
    "    ('poly', PolynomialFeatures(degree=best_hp_ridge['poly__degree'])),\n",
    "    ('model', Ridge(alpha=best_hp_ridge['model__alpha'], max_iter=best_hp_ridge['model__max_iter'], tol=best_hp_ridge['model__tol']))\n",
    "    #('model', Ridge(alpha=best_hp_ridge['model__alpha']))\n",
    "])\n",
    "\n",
    "#se desea usar RepeatedStratifiedKfold crossvalidation\n",
    "rskf = RepeatedStratifiedKFold(n_splits=5,n_repeats=2, random_state=26)\n",
    "\n",
    "lasso_scores = cross_val_score(pipeline_L_best, all_X_values_train, math_score_Y_train, cv=rskf)\n",
    "ridge_scores = cross_val_score(pipeline_R_best, all_X_values_train, math_score_Y_train, cv=rskf)\n",
    "\n",
    "print(\"Lasso: %0.2f (+/- %0.2f)\" % (lasso_scores.mean(), lasso_scores.std() * 2))\n",
    "print(\"Ridge: %0.2f (+/- %0.2f)\" % (ridge_scores.mean(), ridge_scores.std() * 2))"
   ]
  },
  {
   "cell_type": "markdown",
   "metadata": {
    "id": "LpRK91lU5hF-"
   },
   "source": [
    "[5]"
   ]
  },
  {
   "cell_type": "markdown",
   "metadata": {
    "id": "PzsdrqbM508-"
   },
   "source": [
    "\n",
    "\n",
    "[6] \n"
   ]
  },
  {
   "cell_type": "code",
   "execution_count": 11,
   "metadata": {
    "colab": {
     "base_uri": "https://localhost:8080/"
    },
    "id": "ccQGglUH54fQ",
    "outputId": "55a6ea0e-9c79-4361-e8a6-bdf15ee0ad40"
   },
   "outputs": [
    {
     "name": "stdout",
     "output_type": "stream",
     "text": [
      "Test de Wilcoxon:\n",
      "Statistic: 27.0\n",
      "P-value: 1.0\n",
      "Same distribution (fail to reject H0)\n"
     ]
    }
   ],
   "source": [
    "from scipy.stats import wilcoxon\n",
    "\n",
    "#diferencia entre cross_val_scores de lasso y ridge\n",
    "score_diff = lasso_scores - ridge_scores\n",
    "\n",
    "#con la diferencia se hace el test de wilcoxon\n",
    "statistic, pvalue = wilcoxon(score_diff)\n",
    "\n",
    "print(\"Test de Wilcoxon:\")\n",
    "print(f\"Statistic: {statistic}\")\n",
    "print(f\"P-value: {pvalue}\")\n",
    "\n",
    "# interpret\n",
    "alpha = 0.05\n",
    "if pvalue > alpha:\n",
    "    print('Same distribution (fail to reject H0)')\n",
    "else:\n",
    "    print('Different distribution (reject H0)')"
   ]
  },
  {
   "cell_type": "markdown",
   "metadata": {
    "id": "_eeRMNZv59ng"
   },
   "source": [
    "[6]"
   ]
  },
  {
   "cell_type": "code",
   "execution_count": 12,
   "metadata": {
    "colab": {
     "base_uri": "https://localhost:8080/"
    },
    "id": "2mJBjEYx6BdQ",
    "outputId": "051bd440-dbe9-44ec-d01a-83db84a9e725"
   },
   "outputs": [
    {
     "name": "stdout",
     "output_type": "stream",
     "text": [
      "t-value: -0.5374167752823499\n",
      "p-value: 0.6040111423997045\n",
      "Same distribution (fail to reject H0)\n"
     ]
    }
   ],
   "source": [
    "from scipy.stats import ttest_rel\n",
    "\n",
    "#Es posible usar ttest_rel en lugar de wilcoxon\n",
    "#se obtiene el t_value y el p_value\n",
    "#t_value es la diferencia entre las medias de los scores dividida por la desviacion estandar de la diferencia\n",
    "#p_value es la probabilidad de que la diferencia entre las medias sea 0.05\n",
    "t_value, p_value = ttest_rel(lasso_scores, ridge_scores)\n",
    "\n",
    "print(\"t-value:\", t_value)\n",
    "print(\"p-value:\", p_value)\n",
    "# interpret\n",
    "alpha = 0.05\n",
    "if p_value > alpha:\n",
    "    print('Same distribution (fail to reject H0)')\n",
    "else:\n",
    "    print('Different distribution (reject H0)')"
   ]
  },
  {
   "cell_type": "markdown",
   "metadata": {
    "id": "bThh_-5q6GX-"
   },
   "source": [
    "[7]"
   ]
  },
  {
   "cell_type": "code",
   "execution_count": 19,
   "metadata": {
    "colab": {
     "base_uri": "https://localhost:8080/",
     "height": 1000
    },
    "id": "pR_hZ38X6Kry",
    "outputId": "57948fd7-ddf9-41f7-f2ca-dea21f3b9b91"
   },
   "outputs": [
    {
     "name": "stdout",
     "output_type": "stream",
     "text": [
      "Lasso metrics\n",
      "\n",
      "MSE: 176.91955337171063\n",
      "R2 score: 0.27480097814514415\n",
      "RMSE: 13.301110982610085\n",
      "\n",
      "Ridge metrics\n",
      "\n",
      "MSE: 176.70985517663857\n",
      "R2 score: 0.27566053788884015\n",
      "RMSE: 13.293225913097189\n"
     ]
    },
    {
     "data": {
      "image/png": "[encoded data removed]",
      "text/plain": [
       "<Figure size 1000x1000 with 1 Axes>"
      ]
     },
     "metadata": {},
     "output_type": "display_data"
    }
   ],
   "source": [
    "#se importan las metricas de sklearn\n",
    "from sklearn.metrics import mean_squared_error, r2_score\n",
    "\n",
    "#se reentrena con los mejores hiperparametros encontrados\n",
    "pipeline_L_best.fit(all_X_values_train, math_score_Y_train)\n",
    "pipeline_R_best.fit(all_X_values_train, math_score_Y_train)\n",
    "\n",
    "# Make predictions on the test set for both models\n",
    "lasso_preds = pipeline_L_best.predict(all_X_values_test)\n",
    "ridge_preds = pipeline_R_best.predict(all_X_values_test)\n",
    "\n",
    "# Calculate the MSE for both models\n",
    "lasso_mse = mean_squared_error(math_score_Y_test, lasso_preds)\n",
    "ridge_mse = mean_squared_error(math_score_Y_test, ridge_preds)\n",
    "\n",
    "# Calculate the R2 score for both models\n",
    "lasso_r2 = r2_score(math_score_Y_test, lasso_preds)\n",
    "ridge_r2 = r2_score(math_score_Y_test, ridge_preds)\n",
    "\n",
    "# Calculate the RMSE for both models\n",
    "lasso_rmse = mean_squared_error(math_score_Y_test, lasso_preds, squared=False)\n",
    "ridge_rmse = mean_squared_error(math_score_Y_test, ridge_preds, squared=False)\n",
    "\n",
    "print(\"Lasso metrics\")\n",
    "print(f\"\\nMSE: {lasso_mse}\")\n",
    "print(f\"R2 score: {lasso_r2}\")\n",
    "print(f\"RMSE: {lasso_rmse}\")\n",
    "\n",
    "print(\"\\nRidge metrics\")\n",
    "print(f\"\\nMSE: {ridge_mse}\")\n",
    "print(f\"R2 score: {ridge_r2}\")\n",
    "print(f\"RMSE: {ridge_rmse}\")\n",
    "\n",
    "#se grafica el error\n",
    "plt.figure(figsize=(10, 10))\n",
    "plt.scatter(math_score_Y_test, ridge_preds, c='crimson')\n",
    "plt.yscale('log')\n",
    "plt.xscale('log')\n",
    "p1 = np.amax([np.amax(ridge_preds), np.amax(math_score_Y_test)])\n",
    "p2 = np.amin([np.amin(ridge_preds), np.amin(math_score_Y_test)])\n",
    "plt.plot([p1, p2], [p1, p2], 'b-', label = 'Ideal Line')\n",
    "plt.xlabel('True values', fontsize=15)\n",
    "plt.ylabel('Predictions', fontsize=15)\n",
    "plt.axis('equal')\n",
    "plt.legend(fontsize=15)\n",
    "plt.show()"
   ]
  },
  {
   "cell_type": "markdown",
   "metadata": {
    "id": "QHDAgAlnRzZu"
   },
   "source": [
    "# Punto 2: Multiple Inputs & Multiple Outputs"
   ]
  },
  {
   "cell_type": "code",
   "execution_count": 14,
   "metadata": {
    "id": "fwDU0XI6vE8O"
   },
   "outputs": [],
   "source": [
    "# inputs y outputs\n",
    "math_score_Y = df_proc['math score']\n",
    "reading_score_Y = df_proc['reading score']\n",
    "writing_score_Y = df_proc['writing score']\n",
    "\n",
    "all_X=df_proc.drop(columns =['math score','reading score','writing score'], axis=1)\n",
    "\n",
    "all_Y = df_proc.iloc[:, 3:6].values\n",
    "\n",
    "# Dividimos el conjunto de entrenamiento y test\n",
    "all_X_values_train = all_X[:-200] \n",
    "all_X_values_test = all_X[-200:] #last 200 for test\n",
    "\n",
    "#split the targets into training/testing sets\n",
    "#math_score_Y_train = math_score_Y[:-200]\n",
    "#math_score_Y_test = math_score_Y[-200:] \n",
    "all_Y_values_train = all_Y[:-200] \n",
    "all_Y_values_test = all_Y[-200:] #last 200 for test"
   ]
  },
  {
   "cell_type": "code",
   "execution_count": 15,
   "metadata": {
    "colab": {
     "base_uri": "https://localhost:8080/"
    },
    "id": "UB3OONcgyw_A",
    "outputId": "273dfaa0-4c1b-4560-e6b7-c6fda7b2f14d"
   },
   "outputs": [
    {
     "data": {
      "text/plain": [
       "(800, 3)"
      ]
     },
     "execution_count": 15,
     "metadata": {},
     "output_type": "execute_result"
    }
   ],
   "source": [
    "all_Y_values_train.shape"
   ]
  },
  {
   "cell_type": "code",
   "execution_count": 16,
   "metadata": {
    "colab": {
     "base_uri": "https://localhost:8080/"
    },
    "id": "tsT8IkJOxSYR",
    "outputId": "6f29bda8-b7e5-448b-b09d-f071111c8775"
   },
   "outputs": [
    {
     "name": "stdout",
     "output_type": "stream",
     "text": [
      "Los mejores hiperparámetros para Multi-Ridge son: {'estimator__poly__degree': 1, 'estimator__regressor__alpha': 10.0, 'estimator__selector__k': 14}\n"
     ]
    }
   ],
   "source": [
    "from sklearn.model_selection import RepeatedStratifiedKFold\n",
    "from sklearn.pipeline import Pipeline\n",
    "from sklearn.multioutput import MultiOutputRegressor\n",
    "from sklearn.linear_model import Ridge\n",
    "from sklearn.feature_selection import SelectKBest\n",
    "from sklearn.model_selection import GridSearchCV\n",
    "from sklearn.preprocessing import PolynomialFeatures, StandardScaler\n",
    "from sklearn.feature_selection import SelectKBest, f_regression\n",
    "\n",
    "# Create a pipeline for the Ridge regression with feature selection\n",
    "ridge_pipeline = Pipeline([\n",
    "    ('scaler', StandardScaler()),\n",
    "    ('selector', SelectKBest(score_func=f_regression)),\n",
    "    ('poly', PolynomialFeatures()),\n",
    "    ('regressor', Ridge())\n",
    "])\n",
    "\n",
    "# Create a dictionary of hyperparameters for the pipeline\n",
    "ridge_hyperparameters = {\n",
    "    'estimator__selector__k': range(1, 15),\n",
    "    'estimator__poly__degree':[0,1,2],\n",
    "    'estimator__regressor__alpha': [0.1, 1.0, 10.0, 100]\n",
    "}\n",
    "\n",
    "# Create a MultiOutputRegressor wrapper around the Ridge pipeline for multiple output regression\n",
    "multi_output_ridge_pipeline = MultiOutputRegressor(ridge_pipeline)\n",
    "\n",
    "cvm = RepeatedStratifiedKFold(n_splits=5, n_repeats=2, random_state=26)\n",
    "\n",
    "# Create a grid search object with cross-validation for hyperparameter tuning\n",
    "ridge_grid_search = GridSearchCV(multi_output_ridge_pipeline, ridge_hyperparameters, cv=5, scoring='r2')\n",
    "\n",
    "result_ridge = ridge_grid_search.fit(all_X_values_train, all_Y_values_train)\n",
    "\n",
    "#se quiere encontrar los mejores hiperparametros\n",
    "best_hp_mridge = result_ridge.best_params_\n",
    "print(\"Los mejores hiperparámetros para Multi-Ridge son:\", best_hp_mridge)"
   ]
  },
  {
   "cell_type": "markdown",
   "metadata": {},
   "source": [
    "[8]"
   ]
  },
  {
   "cell_type": "markdown",
   "metadata": {},
   "source": [
    "[9]"
   ]
  },
  {
   "cell_type": "code",
   "execution_count": 18,
   "metadata": {
    "colab": {
     "base_uri": "https://localhost:8080/",
     "height": 964
    },
    "id": "9YdwvK-OplkF",
    "outputId": "930e33be-54d9-4b1c-87ca-9072abaf5890"
   },
   "outputs": [
    {
     "name": "stdout",
     "output_type": "stream",
     "text": [
      "Multi-Ridge metrics\n",
      "\n",
      "Mean squared error: 175.31\n",
      "RMean squared error: 13.24\n",
      "Mean absolute error: 10.74\n",
      "R2 score: 0.26\n"
     ]
    },
    {
     "data": {
      "image/png": "[encoded data removed]",
      "text/plain": [
       "<Figure size 1000x1000 with 1 Axes>"
      ]
     },
     "metadata": {},
     "output_type": "display_data"
    }
   ],
   "source": [
    "#conociendo los mejores hiperparametros del modelo, se crea el modelo con esos hiperparametros\n",
    "best_mridge_pipeline = Pipeline([\n",
    "    ('scaler', StandardScaler()),\n",
    "    ('selector', SelectKBest(score_func=f_regression, k=14)),\n",
    "    ('poly', PolynomialFeatures(degree=1)),\n",
    "    ('regressor', Ridge(alpha=100))\n",
    "])\n",
    "\n",
    "# Create a MultiOutputRegressor wrapper around the Ridge pipeline for multiple output regression\n",
    "best_multi_output_ridge_pipeline = MultiOutputRegressor(best_mridge_pipeline)\n",
    "\n",
    "#se entrena el modelo\n",
    "best_multi_output_ridge_pipeline.fit(all_X_values_train, all_Y_values_train)\n",
    "\n",
    "#se hacen las predicciones\n",
    "all_Y_values_pred = best_multi_output_ridge_pipeline.predict(all_X_values_test)\n",
    "\n",
    "#se calcula el error\n",
    "from sklearn.metrics import mean_squared_error\n",
    "from sklearn.metrics import mean_absolute_error\n",
    "from sklearn.metrics import r2_score\n",
    "\n",
    "import math \n",
    "\n",
    "print(\"Multi-Ridge metrics\")\n",
    "print(\"\\nMean squared error: %.2f\" % mean_squared_error(all_Y_values_test, all_Y_values_pred))\n",
    "print(\"RMean squared error: %.2f\" % math.sqrt(mean_squared_error(all_Y_values_test, all_Y_values_pred)))\n",
    "print(\"Mean absolute error: %.2f\" % mean_absolute_error(all_Y_values_test, all_Y_values_pred))\n",
    "print('R2 score: %.2f' % r2_score(all_Y_values_test, all_Y_values_pred))\n",
    "\n",
    "#se grafica el error\n",
    "plt.figure(figsize=(10, 10))\n",
    "plt.scatter(all_Y_values_test, all_Y_values_pred, c='crimson')\n",
    "plt.yscale('log')\n",
    "plt.xscale('log')\n",
    "p1 = np.amax([np.amax(all_Y_values_pred), np.amax(all_Y_values_test)])\n",
    "p2 = np.amin([np.amin(all_Y_values_pred), np.amin(all_Y_values_test)])\n",
    "plt.plot([p1, p2], [p1, p2], 'b-', label = 'Ideal Line')\n",
    "plt.xlabel('True values', fontsize=15)\n",
    "plt.ylabel('Predictions', fontsize=15)\n",
    "plt.axis('equal')\n",
    "plt.legend(fontsize=15)\n",
    "plt.show()"
   ]
  },
  {
   "cell_type": "code",
   "execution_count": 22,
   "metadata": {
    "colab": {
     "base_uri": "https://localhost:8080/"
    },
    "id": "Q10gtUa9VQD9",
    "outputId": "7c64c9d2-9bb4-47bb-9e89-bfb77d25c67a"
   },
   "outputs": [
    {
     "name": "stdout",
     "output_type": "stream",
     "text": [
      "Test de Wilcoxon:\n",
      "Statistic: 9478.0\n",
      "P-value: 0.4852093110442015\n",
      "Same distribution (fail to reject H0)\n"
     ]
    }
   ],
   "source": [
    "#se calcula el pvalue usando el Wilcoxon test\n",
    "mstatistic, mp_value = wilcoxon(ridge_preds,all_Y_values_pred[:, 0])#solo consideramos la primera columna de all_Y_values_pred (la columna de Math)\n",
    "\n",
    "print(\"Test de Wilcoxon:\")\n",
    "print(f\"Statistic: {mstatistic}\")\n",
    "print(f\"P-value: {mp_value}\")\n",
    "\n",
    "# interpret\n",
    "alpha = 0.05\n",
    "if mp_value > alpha:\n",
    "    print('Same distribution (fail to reject H0)')\n",
    "else:\n",
    "    print('Different distribution (reject H0)')"
   ]
  },
  {
   "cell_type": "code",
   "execution_count": 27,
   "metadata": {
    "colab": {
     "base_uri": "https://localhost:8080/"
    },
    "id": "s2Qew8EvWqvo",
    "outputId": "31926250-ac14-468a-8ea2-a507d2ec0503"
   },
   "outputs": [
    {
     "name": "stdout",
     "output_type": "stream",
     "text": [
      "t-value: [-1.04124813 -7.59575454 -4.05461538]\n",
      "p-value: [2.99023769e-01 1.16872685e-12 7.20329786e-05]\n",
      "Same distribution (fail to reject H0)\n"
     ]
    }
   ],
   "source": [
    "# Reshape ridge_preds to have the same shape as ridge_preds\n",
    "ridge_preds_reshaped = ridge_preds.reshape(-1, 1).repeat(3, axis=1)\n",
    "\n",
    "# Calculate the t-statistic and p-value for the paired t-test\n",
    "mt_statistic, mtp_value = ttest_rel(ridge_preds_reshaped, all_Y_values_pred)\n",
    "\n",
    "print(\"t-value:\", mt_statistic)\n",
    "print(\"p-value:\", mtp_value)\n",
    "# interpret\n",
    "alpha = 0.05\n",
    "if np.amax(mtp_value) > alpha:\n",
    "    print('Same distribution (fail to reject H0)')\n",
    "else:\n",
    "    print('Different distribution (reject H0)')"
   ]
  },
  {
   "cell_type": "markdown",
   "metadata": {
    "id": "JBEladJv0Yrj"
   },
   "source": [
    "\n",
    "# Punto 3: Neural Networks"
   ]
  },
  {
   "cell_type": "markdown",
   "metadata": {
    "id": "ESrCwkEy0dFu"
   },
   "source": [
    "### Optimizando el número de capas ocultas y el número de neuronas"
   ]
  },
  {
   "cell_type": "code",
   "execution_count": null,
   "metadata": {
    "id": "B2Fl2jmtYsRn"
   },
   "outputs": [],
   "source": [
    "# inputs y outputs\n",
    "math_score_Y = df_proc['math score']\n",
    "reading_score_Y = df_proc['reading score']\n",
    "writing_score_Y = df_proc['writing score']\n",
    "\n",
    "all_X=df_proc.drop(columns =['math score','reading score','writing score'], axis=1)\n",
    "\n",
    "all_Y = df_proc.iloc[:, 3:6].values\n",
    "\n",
    "# Dividimos el conjunto de entrenamiento y test\n",
    "all_X_values_train = all_X[:-200] \n",
    "all_X_values_test = all_X[-200:] #last 200 for test\n",
    "\n",
    "#split the targets into training/testing sets\n",
    "#math_score_Y_train = math_score_Y[:-200]\n",
    "#math_score_Y_test = math_score_Y[-200:] \n",
    "all_Y_values_train = all_Y[:-200] \n",
    "all_Y_values_test = all_Y[-200:] #last 200 for test"
   ]
  },
  {
   "cell_type": "code",
   "execution_count": 28,
   "metadata": {
    "colab": {
     "base_uri": "https://localhost:8080/"
    },
    "id": "yr2cnnkn2i5Y",
    "outputId": "2aebce97-4fef-450c-aef8-e82583c967ce"
   },
   "outputs": [
    {
     "name": "stderr",
     "output_type": "stream",
     "text": [
      "<ipython-input-28-d3b80db17790>:30: DeprecationWarning: KerasRegressor is deprecated, use Sci-Keras (https://github.com/adriangb/scikeras) instead. See https://www.adriangb.com/scikeras/stable/migration.html for help migrating.\n",
      "  ('keras', KerasRegressor(build_fn=create_model, verbose=0))\n"
     ]
    },
    {
     "name": "stdout",
     "output_type": "stream",
     "text": [
      "['accuracy', 'adjusted_mutual_info_score', 'adjusted_rand_score', 'average_precision', 'balanced_accuracy', 'completeness_score', 'explained_variance', 'f1', 'f1_macro', 'f1_micro', 'f1_samples', 'f1_weighted', 'fowlkes_mallows_score', 'homogeneity_score', 'jaccard', 'jaccard_macro', 'jaccard_micro', 'jaccard_samples', 'jaccard_weighted', 'matthews_corrcoef', 'max_error', 'mutual_info_score', 'neg_brier_score', 'neg_log_loss', 'neg_mean_absolute_error', 'neg_mean_absolute_percentage_error', 'neg_mean_gamma_deviance', 'neg_mean_poisson_deviance', 'neg_mean_squared_error', 'neg_mean_squared_log_error', 'neg_median_absolute_error', 'neg_negative_likelihood_ratio', 'neg_root_mean_squared_error', 'normalized_mutual_info_score', 'positive_likelihood_ratio', 'precision', 'precision_macro', 'precision_micro', 'precision_samples', 'precision_weighted', 'r2', 'rand_score', 'recall', 'recall_macro', 'recall_micro', 'recall_samples', 'recall_weighted', 'roc_auc', 'roc_auc_ovo', 'roc_auc_ovo_weighted', 'roc_auc_ovr', 'roc_auc_ovr_weighted', 'top_k_accuracy', 'v_measure_score']\n",
      "Fitting 5 folds for each of 15 candidates, totalling 75 fits\n",
      "[CV 1/5] END keras__hidden_layers=1, keras__neurons=5;, score=-65.623 total time=   1.5s\n",
      "[CV 2/5] END keras__hidden_layers=1, keras__neurons=5;, score=-68.438 total time=   0.9s\n",
      "[CV 3/5] END keras__hidden_layers=1, keras__neurons=5;, score=-67.399 total time=   1.2s\n",
      "[CV 4/5] END keras__hidden_layers=1, keras__neurons=5;, score=-68.406 total time=   1.2s\n",
      "[CV 5/5] END keras__hidden_layers=1, keras__neurons=5;, score=-68.375 total time=   0.9s\n",
      "[CV 1/5] END keras__hidden_layers=1, keras__neurons=15;, score=-65.054 total time=   0.9s\n",
      "[CV 2/5] END keras__hidden_layers=1, keras__neurons=15;, score=-68.586 total time=   0.8s\n",
      "[CV 3/5] END keras__hidden_layers=1, keras__neurons=15;, score=-67.001 total time=   0.9s\n",
      "[CV 4/5] END keras__hidden_layers=1, keras__neurons=15;, score=-68.322 total time=   0.9s\n",
      "[CV 5/5] END keras__hidden_layers=1, keras__neurons=15;, score=-68.363 total time=   0.9s\n",
      "[CV 1/5] END keras__hidden_layers=1, keras__neurons=25;, score=-64.915 total time=   0.9s\n",
      "[CV 2/5] END keras__hidden_layers=1, keras__neurons=25;, score=-68.243 total time=   1.2s\n",
      "[CV 3/5] END keras__hidden_layers=1, keras__neurons=25;, score=-66.773 total time=   0.9s\n",
      "[CV 4/5] END keras__hidden_layers=1, keras__neurons=25;, score=-67.947 total time=   0.8s\n",
      "[CV 5/5] END keras__hidden_layers=1, keras__neurons=25;, score=-67.869 total time=   0.9s\n",
      "[CV 1/5] END keras__hidden_layers=1, keras__neurons=50;, score=-64.718 total time=   1.3s\n",
      "[CV 2/5] END keras__hidden_layers=1, keras__neurons=50;, score=-67.806 total time=   1.2s\n",
      "[CV 3/5] END keras__hidden_layers=1, keras__neurons=50;, score=-66.741 total time=   0.9s\n",
      "[CV 4/5] END keras__hidden_layers=1, keras__neurons=50;, score=-67.854 total time=   0.9s\n",
      "[CV 5/5] END keras__hidden_layers=1, keras__neurons=50;, score=-67.099 total time=   0.9s\n",
      "[CV 1/5] END keras__hidden_layers=1, keras__neurons=75;, score=-64.317 total time=   0.9s\n",
      "[CV 2/5] END keras__hidden_layers=1, keras__neurons=75;, score=-67.243 total time=   0.9s\n",
      "[CV 3/5] END keras__hidden_layers=1, keras__neurons=75;, score=-65.907 total time=   0.9s\n",
      "[CV 4/5] END keras__hidden_layers=1, keras__neurons=75;, score=-66.944 total time=   0.8s\n",
      "[CV 5/5] END keras__hidden_layers=1, keras__neurons=75;, score=-66.948 total time=   0.9s\n",
      "[CV 1/5] END keras__hidden_layers=2, keras__neurons=5;, score=-65.539 total time=   1.0s\n",
      "[CV 2/5] END keras__hidden_layers=2, keras__neurons=5;, score=-68.731 total time=   1.5s\n",
      "[CV 3/5] END keras__hidden_layers=2, keras__neurons=5;, score=-66.947 total time=   1.3s\n",
      "[CV 4/5] END keras__hidden_layers=2, keras__neurons=5;, score=-67.896 total time=   1.5s\n",
      "[CV 5/5] END keras__hidden_layers=2, keras__neurons=5;, score=-68.295 total time=   1.1s\n",
      "[CV 1/5] END keras__hidden_layers=2, keras__neurons=15;, score=-65.137 total time=   1.1s\n",
      "[CV 2/5] END keras__hidden_layers=2, keras__neurons=15;, score=-68.373 total time=   1.0s\n",
      "[CV 3/5] END keras__hidden_layers=2, keras__neurons=15;, score=-67.094 total time=   1.0s\n",
      "[CV 4/5] END keras__hidden_layers=2, keras__neurons=15;, score=-67.948 total time=   1.0s\n",
      "[CV 5/5] END keras__hidden_layers=2, keras__neurons=15;, score=-68.251 total time=   1.0s\n",
      "[CV 1/5] END keras__hidden_layers=2, keras__neurons=25;, score=-64.797 total time=   1.1s\n",
      "[CV 2/5] END keras__hidden_layers=2, keras__neurons=25;, score=-68.213 total time=   1.0s\n",
      "[CV 3/5] END keras__hidden_layers=2, keras__neurons=25;, score=-67.067 total time=   1.1s\n",
      "[CV 4/5] END keras__hidden_layers=2, keras__neurons=25;, score=-68.144 total time=   1.3s\n",
      "[CV 5/5] END keras__hidden_layers=2, keras__neurons=25;, score=-67.952 total time=   2.2s\n",
      "[CV 1/5] END keras__hidden_layers=2, keras__neurons=50;, score=-64.246 total time=   1.2s\n",
      "[CV 2/5] END keras__hidden_layers=2, keras__neurons=50;, score=-67.576 total time=   1.0s\n",
      "[CV 3/5] END keras__hidden_layers=2, keras__neurons=50;, score=-66.104 total time=   1.0s\n",
      "[CV 4/5] END keras__hidden_layers=2, keras__neurons=50;, score=-66.702 total time=   1.0s\n",
      "[CV 5/5] END keras__hidden_layers=2, keras__neurons=50;, score=-67.249 total time=   1.1s\n",
      "[CV 1/5] END keras__hidden_layers=2, keras__neurons=75;, score=-63.445 total time=   1.0s\n",
      "[CV 2/5] END keras__hidden_layers=2, keras__neurons=75;, score=-66.700 total time=   1.1s\n",
      "[CV 3/5] END keras__hidden_layers=2, keras__neurons=75;, score=-64.734 total time=   1.1s\n",
      "[CV 4/5] END keras__hidden_layers=2, keras__neurons=75;, score=-65.790 total time=   1.0s\n",
      "[CV 5/5] END keras__hidden_layers=2, keras__neurons=75;, score=-64.579 total time=   1.3s\n",
      "[CV 1/5] END keras__hidden_layers=3, keras__neurons=5;, score=-65.354 total time=   1.7s\n",
      "[CV 2/5] END keras__hidden_layers=3, keras__neurons=5;, score=-68.561 total time=   1.3s\n",
      "[CV 3/5] END keras__hidden_layers=3, keras__neurons=5;, score=-67.293 total time=   1.3s\n",
      "[CV 4/5] END keras__hidden_layers=3, keras__neurons=5;, score=-68.288 total time=   1.8s\n",
      "[CV 5/5] END keras__hidden_layers=3, keras__neurons=5;, score=-68.313 total time=   1.3s\n",
      "[CV 1/5] END keras__hidden_layers=3, keras__neurons=15;, score=-65.007 total time=   1.2s\n",
      "[CV 2/5] END keras__hidden_layers=3, keras__neurons=15;, score=-68.560 total time=   1.2s\n",
      "[CV 3/5] END keras__hidden_layers=3, keras__neurons=15;, score=-66.744 total time=   1.2s\n",
      "[CV 4/5] END keras__hidden_layers=3, keras__neurons=15;, score=-68.116 total time=   1.5s\n",
      "[CV 5/5] END keras__hidden_layers=3, keras__neurons=15;, score=-68.141 total time=   1.7s\n",
      "[CV 1/5] END keras__hidden_layers=3, keras__neurons=25;, score=-65.199 total time=   1.2s\n",
      "[CV 2/5] END keras__hidden_layers=3, keras__neurons=25;, score=-68.389 total time=   1.2s\n",
      "[CV 3/5] END keras__hidden_layers=3, keras__neurons=25;, score=-67.223 total time=   1.2s\n",
      "[CV 4/5] END keras__hidden_layers=3, keras__neurons=25;, score=-67.923 total time=   1.2s\n",
      "[CV 5/5] END keras__hidden_layers=3, keras__neurons=25;, score=-68.122 total time=   1.2s\n",
      "[CV 1/5] END keras__hidden_layers=3, keras__neurons=50;, score=-63.488 total time=   1.8s\n",
      "[CV 2/5] END keras__hidden_layers=3, keras__neurons=50;, score=-67.268 total time=   1.3s\n",
      "[CV 3/5] END keras__hidden_layers=3, keras__neurons=50;, score=-65.200 total time=   1.4s\n",
      "[CV 4/5] END keras__hidden_layers=3, keras__neurons=50;, score=-66.717 total time=   1.8s\n",
      "[CV 5/5] END keras__hidden_layers=3, keras__neurons=50;, score=-67.242 total time=   1.3s\n",
      "[CV 1/5] END keras__hidden_layers=3, keras__neurons=75;, score=-63.143 total time=   1.2s\n",
      "[CV 2/5] END keras__hidden_layers=3, keras__neurons=75;, score=-64.026 total time=   1.2s\n",
      "[CV 3/5] END keras__hidden_layers=3, keras__neurons=75;, score=-64.456 total time=   1.2s\n",
      "[CV 4/5] END keras__hidden_layers=3, keras__neurons=75;, score=-64.089 total time=   1.2s\n",
      "[CV 5/5] END keras__hidden_layers=3, keras__neurons=75;, score=-64.923 total time=   1.2s\n",
      "Para el modelo de neural networks:\n",
      "Mejor: -64.12741714941959 usando {'keras__hidden_layers': 3, 'keras__neurons': 75}\n"
     ]
    }
   ],
   "source": [
    "from keras.models import Sequential\n",
    "from keras.layers import Dense\n",
    "from sklearn.pipeline import Pipeline\n",
    "from sklearn.model_selection import GridSearchCV, train_test_split, RepeatedStratifiedKFold\n",
    "import numpy as np\n",
    "from keras.wrappers.scikit_learn import KerasRegressor\n",
    "from sklearn.metrics import get_scorer_names\n",
    "from sklearn.metrics import mean_squared_error, make_scorer\n",
    "\n",
    "# normalize data to have zero mean and std one (feature scaling)\n",
    "from sklearn.preprocessing import StandardScaler\n",
    "scaler = StandardScaler()\n",
    "scaler.fit(all_X_values_train)# scaler fit is just for training dataset \n",
    "all_X_values_train_normalized = scaler.transform(all_X_values_train) #normalize training set\n",
    "\n",
    "# Crear un modelo de Keras para utilizar en la búsqueda de Grid\n",
    "def create_model(neurons=1, hidden_layers=1):\n",
    "    model = Sequential()\n",
    "    model.add(Dense(neurons, input_dim=all_X_values_train_normalized.shape[1], activation='relu'))\n",
    "    # Agregar una cantidad de capas ocultas igual a\n",
    "    # hidden_layers, cada una con 'neurons' neuronas\n",
    "    for i in range(hidden_layers):\n",
    "        model.add(Dense(neurons, activation='relu'))\n",
    "    model.add(Dense(3, activation='linear'))\n",
    "    model.compile(loss='mean_squared_error', optimizer='adam')\n",
    "    return model\n",
    "\n",
    "# Crear un pipeline para el modelo de Keras\n",
    "model_math = Pipeline([\n",
    "    ('keras', KerasRegressor(build_fn=create_model, verbose=0))\n",
    "])\n",
    "\n",
    "print(get_scorer_names())\n",
    "\n",
    "# Definir una lista de los valores que se probarán para \n",
    "# el número de neuronas y el número de capas ocultas\n",
    "param_grid = {'keras__neurons': [5, 15, 25, 50, 75], 'keras__hidden_layers': [1, 2, 3]}\n",
    "\n",
    "# Aplicar el GridSearchCV con Pipeline y el RepeatedStratifiedKFold\n",
    "grid_math = GridSearchCV(estimator=model_math, param_grid=param_grid, verbose=4, scoring = 'neg_mean_absolute_error')\n",
    "\n",
    "\n",
    "grid_result = grid_math.fit(all_X_values_train_normalized, all_Y_values_train)\n",
    "\n",
    "# Mostrar los resultados de la búsqueda de Grid para cada materia\n",
    "\n",
    "print(\"Para el modelo de neural networks:\")\n",
    "means = grid_result.cv_results_['mean_test_score']\n",
    "stds = grid_result.cv_results_['std_test_score']\n",
    "params = grid_result.cv_results_['params']\n",
    "    \n",
    "print(f\"Mejor: {grid_result.best_score_} usando {grid_result.best_params_}\")"
   ]
  },
  {
   "cell_type": "markdown",
   "metadata": {
    "id": "-AkDN1fiRE8t"
   },
   "source": [
    "[10]"
   ]
  },
  {
   "cell_type": "markdown",
   "metadata": {
    "id": "rHs1yj_2EOMD"
   },
   "source": [
    "# **Conclusiones**\n",
    "\n",
    "### **Regresión Lineal Regularizada (Multiple Inputs - One Output)**\n",
    "\n",
    "Tras hacer uso de Pipelines y GridSearchCV se concluye que los mejores hiperparámetros para el modelo de regresión  son: \n",
    "\n",
    "* Lasso -> $\\alpha$ = 0.1, iteraciones = 1000, tolerancia: 1e-05, grado del polinomio = 1, features selected =  14. \n",
    "* Ridge -> $\\alpha$ = 10, iteraciones = 1000, tolerancia: 1e-03, grado del polinomio = 1, features selected =  14. \n",
    "\n",
    "Tras hacer uso del test de Wilcoxon y del TTest, se concluye que, dado $\\alpha$ = 0.05 y una hipótesis nula de que no existe evidencia de una diferencia significativa entre modelos:\n",
    "\n",
    "* Wilcoxon -> para un p-value de 1.0 ($>\\alpha$), no se rechaza la hipótesis nula.\n",
    "* Ttest -> para un p-value de 0.6040 ($>\\alpha$), no se rechaza la hipótesis nula.\n",
    "\n",
    "### **Regresión Lineal (Multiple Inputs - Multiple Outputs)**\n",
    "\n",
    "Tras hacer uso de Pipelines y GridSearchCV se concluye que los mejores hiperparámetros para el modelo de multi-regresión con múltiples outputs son: \n",
    "\n",
    "* Ridge -> $\\alpha$ = 10, iteraciones = 1000, tolerancia: 1e-03, grado del polinomio = 1, features selected =  14. \n",
    "\n",
    "Tras hacer uso del test de Wilcoxon y del TTest, se concluye que, dado $\\alpha$ = 0.05 y una hipótesis nula de que no existe evidencia de una diferencia significativa entre modelos:\n",
    "\n",
    "* Wilcoxon -> para un p-value de 0.4852 ($>\\alpha$), no se rechaza la hipótesis nula.\n",
    "* Ttest -> para un p-value (maximo) de 0.2990 ($>\\alpha$), no se rechaza la hipótesis nula.\n",
    "\n",
    "\n",
    "### **Redes Neuronales**\n",
    "Para este proyecto el objetivo de las redes neuronales era optimizar su rendimiento (optimizar las capas ocultas y el número de neuronas de cada capa. Para esto se realizaron las redes neuronales con Pipelines para cada una de las asignaturas usando las bibliotecas de Keras y Scikit-learn. Para la optimización se hizo la busqueda de hiperparámetros con GridSearchCV. Validamos el modelo utilizando el Kfold-cross validation.\n",
    "\n",
    "Cuando optimizamos las capas ocultas y el número de neuronas. Probamos con 1, 2 o 3 capas ocultas. Cada una con 5, 15, 25, 50 y 75 neuronas. El resultado varió en el número de capas de la red de cada asignatura (matemáticas con 1, reading con 2 y writing con 3) mientras que el número de neuronas se mantuvo óptimo en 75. Como se trataba de un problema de regresión, la capa de salida solo fue una que tiene como función de activación la función sigmoide. El optimizador que usamos fue Adam, que tras prueba y error, fue el que mejor rendimiento tuvo. Como loss function tuvimos el mse que mide el error promedio entre las predicciones que hace el modelo con las etiquetas.\n",
    "\n",
    "Finalmente, obtuvimos los resultados de la busqueda de los mejores hiperparámetros (# de capas y # de neuronas) y realizamos la prueba de hipótesis para hallar el valor p."
   ]
  },
  {
   "cell_type": "markdown",
   "metadata": {
    "id": "AYhtbt6HfVhB"
   },
   "source": [
    "# Referencias\n",
    "\n",
    "[1] P. Jain, \"T-SNE Implementation in R & Python,\" Analytics Vidhya, Jan. 2017. [Online]. Disponible: https://www.analyticsvidhya.com/blog/2017/01/t-sne-implementation-r-python/. [Fecha de acceso: Mayo 10, 2023].\n",
    "\n",
    "[2] C. Chen, \"An Introduction to t-SNE with Python (Example),\" Towards Data Science, Jul. 18, 2019. [Online]. Disponible en: https://towardsdatascience.com/an-introduction-to-t-sne-with-python-example-5a3a293108d1. [Fecha de Acceso: Mayo 10, 2023]\n",
    "\n",
    "[3] \"Model evaluation: quantifying the quality of predictions,\" Scikit-learn. [Online]. Disponible en: https://scikit-learn.org/stable/modules/model_evaluation.html. [Fecha de Acceso: Mayo 10, 2023].\n",
    "\n",
    "[4] R. Sharma, \"Scikit-Learn Pipeline Tutorial with Parameter Tuning and Cross-Validation,\" Towards Data Science, Feb. 18, 2020. [Online]. Disponible en: https://towardsdatascience.com/scikit-learn-pipeline-tutorial-with-parameter-tuning-and-cross-validation-e5b8280c01fb. [Fecha de Acceso: Mayo 10, 2023].\n",
    "\n",
    "[5] \"sklearn.model_selection.RepeatedStratifiedKFold,\" Scikit-learn. [Online]. Disponible en: https://scikit-learn.org/stable/modules/generated/sklearn.model_selection.RepeatedStratifiedKFold.html#sklearn.model_selection.RepeatedStratifiedKFold. [Fecha de Acceso: Mayo 10, 2023].\n",
    "\n",
    "[6] \"scipy.stats.wilcoxon,\" SciPy v1.7.1 Reference Guide. [Online]. Disponible en: https://docs.scipy.org/doc/scipy/reference/generated/scipy.stats.wilcoxon.html. [Fecha de Acceso: May. 10, 2023].\n",
    "\n",
    "[7] \"scipy.stats.ttest_rel.\" SciPy v1.7.1 Reference Guide. [Online]. Disponible en: https://docs.scipy.org/doc/scipy/reference/generated/scipy.stats.ttest_rel.html. [Fecha de Acceso: Mayo 10, 2023].\n",
    "\n",
    "[8] “Example of Multiple Linear [1]R. N. Sucky, “Multivariate Linear Regression in Python Step by Step,” Medium, Oct. 26, 2020. https://towardsdatascience.com/multivariate-linear-regression-in-python-step-by-step-128c2b127171\n",
    "‌Regression in Python - Data to Fish,” datatofish.com. https://datatofish.com/multiple-linear-regression-python/\n",
    "\n",
    "[9] “How to implement Multivariable Regression in Python,” Educative: Interactive Courses for Software Developers. https://www.educative.io/answers/how-to-implement-multivariable-regression-in-python# (accessed May 10, 2023).\n",
    "‌[1]SciKit-Learn, “3.1. Cross-validation: evaluating estimator performance — scikit-learn 0.21.3 documentation,” Scikit-learn.org, 2009. https://scikit-learn.org/stable/modules/cross_validation.html\n",
    "\n",
    "[10] J. Brownlee, “Use Keras Deep Learning Models with Scikit-Learn in Python,” MachineLearningMastery.com, May 30, 2016. https://machinelearningmastery.com/use-keras-deep-learning-models-scikit-learn-python/"
   ]
  },
  {
   "cell_type": "code",
   "execution_count": null,
   "metadata": {},
   "outputs": [],
   "source": []
  }
 ],
 "metadata": {
  "colab": {
   "provenance": []
  },
  "kernelspec": {
   "display_name": "Python 3 (ipykernel)",
   "language": "python",
   "name": "python3"
  },
  "language_info": {
   "codemirror_mode": {
    "name": "ipython",
    "version": 3
   },
   "file_extension": ".py",
   "mimetype": "text/x-python",
   "name": "python",
   "nbconvert_exporter": "python",
   "pygments_lexer": "ipython3",
   "version": "3.11.2"
  }
 },
 "nbformat": 4,
 "nbformat_minor": 1
}

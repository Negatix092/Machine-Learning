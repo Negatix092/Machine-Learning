{
  "nbformat": 4,
  "nbformat_minor": 0,
  "metadata": {
    "colab": {
      "provenance": []
    },
    "kernelspec": {
      "name": "python3",
      "display_name": "Python 3"
    },
    "language_info": {
      "name": "python"
    }
  },
  "cells": [
    {
      "cell_type": "markdown",
      "source": [
        "https://colab.research.google.com/drive/1yHwUpFi4nCX-Yr3WBFMRfrW6wVQHqUud?usp=sharing "
      ],
      "metadata": {
        "id": "8Z_MHoGaJjmJ"
      }
    },
    {
      "cell_type": "code",
      "source": [
        "import pandas as pd\n",
        "import numpy as np\n",
        "import matplotlib.pyplot as plt\n",
        "import seaborn as sns\n",
        "import os\n",
        "from sklearn import datasets, linear_model\n",
        "  \n",
        "# reading the csv file\n",
        "df = pd.read_csv(\"sample_data/StudentsPerformance.csv\")\n",
        "  \n",
        "# updating the column value/data\n",
        "\n",
        "#gender\n",
        "df['gender'] = df['gender'].replace({'female': '1'})\n",
        "df['gender'] = df['gender'].replace({'male': '2'})\n",
        "\n",
        "#race/ethnicity\n",
        "df['race/ethnicity'] = df['race/ethnicity'].replace({'group A':'1'})\n",
        "df['race/ethnicity'] = df['race/ethnicity'].replace({'group B':'2'})\n",
        "df['race/ethnicity'] = df['race/ethnicity'].replace({'group C':'3'})\n",
        "df['race/ethnicity'] = df['race/ethnicity'].replace({'group D':'4'})\n",
        "df['race/ethnicity'] = df['race/ethnicity'].replace({'group E':'5'})\n",
        "\n",
        "#parental level of education\n",
        "df['parental level of education'] = df['parental level of education'].replace({'some high school':'1'})\n",
        "df['parental level of education'] = df['parental level of education'].replace({'high school':'2'})\n",
        "df['parental level of education'] = df['parental level of education'].replace({\"bachelor's degree\":'3'})\n",
        "df['parental level of education'] = df['parental level of education'].replace({'some college':'4'})\n",
        "df['parental level of education'] = df['parental level of education'].replace({\"master's degree\":'5'})\n",
        "df['parental level of education'] = df['parental level of education'].replace({\"associate's degree\":'6'})\n",
        "\n",
        "#lunch\n",
        "df['lunch'] = df['lunch'].replace({'standard':'1'})\n",
        "df['lunch'] = df['lunch'].replace({'free/reduced':'2'})\n",
        "\n",
        "\n",
        "#test preparation course\n",
        "df['test preparation course'] = df['test preparation course'].replace({'none':'1'})\n",
        "df['test preparation course'] = df['test preparation course'].replace({'completed':'2'})\n",
        "\n",
        "# define a function that returns a value for the new column\n",
        "def my_math_prediction(row):\n",
        "    # new column value based on the value in 'math score' \n",
        "    if row['math score'] >= 71:\n",
        "        return 1\n",
        "    else:\n",
        "        return 0\n",
        "\n",
        "# define a function that returns a value for the new column\n",
        "def my_reading_prediction(row):\n",
        "    # new column value based on the value in 'reading score' \n",
        "    if row['reading score'] >= 71:\n",
        "        return 1\n",
        "    else:\n",
        "        return 0\n",
        "\n",
        "# define a function that returns a value for the new column\n",
        "def my_writing_prediction(row):\n",
        "    # new column value based on the value in 'writing score' \n",
        "    if row['writing score'] >= 71:\n",
        "        return 1\n",
        "    else:\n",
        "        return 0\n",
        "\n",
        "# apply the function to each row and create a new column called 'math_prediction'\n",
        "df['math_prediction'] = df.apply(my_math_prediction, axis=1)\n",
        "\n",
        "# apply the function to each row and create a new column called 'math_prediction'\n",
        "df['reading_prediction'] = df.apply(my_reading_prediction, axis=1)\n",
        "\n",
        "# apply the function to each row and create a new column called 'math_prediction'\n",
        "df['writing_prediction'] = df.apply(my_reading_prediction, axis=1)\n",
        "\n",
        "df.head()"
      ],
      "metadata": {
        "id": "N_GBpJRZIHfX",
        "colab": {
          "base_uri": "https://localhost:8080/",
          "height": 285
        },
        "outputId": "7cc49fa8-7442-43d3-ae9e-813ea15a7aaf"
      },
      "execution_count": null,
      "outputs": [
        {
          "output_type": "execute_result",
          "data": {
            "text/plain": [
              "  gender race/ethnicity parental level of education lunch  \\\n",
              "0      1              2                           3     1   \n",
              "1      1              3                           4     1   \n",
              "2      1              2                           5     1   \n",
              "3      2              1                           6     2   \n",
              "4      2              3                           4     1   \n",
              "\n",
              "  test preparation course  math score  reading score  writing score  \\\n",
              "0                       1          72             72             74   \n",
              "1                       2          69             90             88   \n",
              "2                       1          90             95             93   \n",
              "3                       1          47             57             44   \n",
              "4                       1          76             78             75   \n",
              "\n",
              "   math_prediction  reading_prediction  writing_prediction  \n",
              "0                1                   1                   1  \n",
              "1                0                   1                   1  \n",
              "2                1                   1                   1  \n",
              "3                0                   0                   0  \n",
              "4                1                   1                   1  "
            ],
            "text/html": [
              "\n",
              "  <div id=\"df-7a29f12e-ad09-4b17-a677-4253ccf9a3c1\">\n",
              "    <div class=\"colab-df-container\">\n",
              "      <div>\n",
              "<style scoped>\n",
              "    .dataframe tbody tr th:only-of-type {\n",
              "        vertical-align: middle;\n",
              "    }\n",
              "\n",
              "    .dataframe tbody tr th {\n",
              "        vertical-align: top;\n",
              "    }\n",
              "\n",
              "    .dataframe thead th {\n",
              "        text-align: right;\n",
              "    }\n",
              "</style>\n",
              "<table border=\"1\" class=\"dataframe\">\n",
              "  <thead>\n",
              "    <tr style=\"text-align: right;\">\n",
              "      <th></th>\n",
              "      <th>gender</th>\n",
              "      <th>race/ethnicity</th>\n",
              "      <th>parental level of education</th>\n",
              "      <th>lunch</th>\n",
              "      <th>test preparation course</th>\n",
              "      <th>math score</th>\n",
              "      <th>reading score</th>\n",
              "      <th>writing score</th>\n",
              "      <th>math_prediction</th>\n",
              "      <th>reading_prediction</th>\n",
              "      <th>writing_prediction</th>\n",
              "    </tr>\n",
              "  </thead>\n",
              "  <tbody>\n",
              "    <tr>\n",
              "      <th>0</th>\n",
              "      <td>1</td>\n",
              "      <td>2</td>\n",
              "      <td>3</td>\n",
              "      <td>1</td>\n",
              "      <td>1</td>\n",
              "      <td>72</td>\n",
              "      <td>72</td>\n",
              "      <td>74</td>\n",
              "      <td>1</td>\n",
              "      <td>1</td>\n",
              "      <td>1</td>\n",
              "    </tr>\n",
              "    <tr>\n",
              "      <th>1</th>\n",
              "      <td>1</td>\n",
              "      <td>3</td>\n",
              "      <td>4</td>\n",
              "      <td>1</td>\n",
              "      <td>2</td>\n",
              "      <td>69</td>\n",
              "      <td>90</td>\n",
              "      <td>88</td>\n",
              "      <td>0</td>\n",
              "      <td>1</td>\n",
              "      <td>1</td>\n",
              "    </tr>\n",
              "    <tr>\n",
              "      <th>2</th>\n",
              "      <td>1</td>\n",
              "      <td>2</td>\n",
              "      <td>5</td>\n",
              "      <td>1</td>\n",
              "      <td>1</td>\n",
              "      <td>90</td>\n",
              "      <td>95</td>\n",
              "      <td>93</td>\n",
              "      <td>1</td>\n",
              "      <td>1</td>\n",
              "      <td>1</td>\n",
              "    </tr>\n",
              "    <tr>\n",
              "      <th>3</th>\n",
              "      <td>2</td>\n",
              "      <td>1</td>\n",
              "      <td>6</td>\n",
              "      <td>2</td>\n",
              "      <td>1</td>\n",
              "      <td>47</td>\n",
              "      <td>57</td>\n",
              "      <td>44</td>\n",
              "      <td>0</td>\n",
              "      <td>0</td>\n",
              "      <td>0</td>\n",
              "    </tr>\n",
              "    <tr>\n",
              "      <th>4</th>\n",
              "      <td>2</td>\n",
              "      <td>3</td>\n",
              "      <td>4</td>\n",
              "      <td>1</td>\n",
              "      <td>1</td>\n",
              "      <td>76</td>\n",
              "      <td>78</td>\n",
              "      <td>75</td>\n",
              "      <td>1</td>\n",
              "      <td>1</td>\n",
              "      <td>1</td>\n",
              "    </tr>\n",
              "  </tbody>\n",
              "</table>\n",
              "</div>\n",
              "      <button class=\"colab-df-convert\" onclick=\"convertToInteractive('df-7a29f12e-ad09-4b17-a677-4253ccf9a3c1')\"\n",
              "              title=\"Convert this dataframe to an interactive table.\"\n",
              "              style=\"display:none;\">\n",
              "        \n",
              "  <svg xmlns=\"http://www.w3.org/2000/svg\" height=\"24px\"viewBox=\"0 0 24 24\"\n",
              "       width=\"24px\">\n",
              "    <path d=\"M0 0h24v24H0V0z\" fill=\"none\"/>\n",
              "    <path d=\"M18.56 5.44l.94 2.06.94-2.06 2.06-.94-2.06-.94-.94-2.06-.94 2.06-2.06.94zm-11 1L8.5 8.5l.94-2.06 2.06-.94-2.06-.94L8.5 2.5l-.94 2.06-2.06.94zm10 10l.94 2.06.94-2.06 2.06-.94-2.06-.94-.94-2.06-.94 2.06-2.06.94z\"/><path d=\"M17.41 7.96l-1.37-1.37c-.4-.4-.92-.59-1.43-.59-.52 0-1.04.2-1.43.59L10.3 9.45l-7.72 7.72c-.78.78-.78 2.05 0 2.83L4 21.41c.39.39.9.59 1.41.59.51 0 1.02-.2 1.41-.59l7.78-7.78 2.81-2.81c.8-.78.8-2.07 0-2.86zM5.41 20L4 18.59l7.72-7.72 1.47 1.35L5.41 20z\"/>\n",
              "  </svg>\n",
              "      </button>\n",
              "      \n",
              "  <style>\n",
              "    .colab-df-container {\n",
              "      display:flex;\n",
              "      flex-wrap:wrap;\n",
              "      gap: 12px;\n",
              "    }\n",
              "\n",
              "    .colab-df-convert {\n",
              "      background-color: #E8F0FE;\n",
              "      border: none;\n",
              "      border-radius: 50%;\n",
              "      cursor: pointer;\n",
              "      display: none;\n",
              "      fill: #1967D2;\n",
              "      height: 32px;\n",
              "      padding: 0 0 0 0;\n",
              "      width: 32px;\n",
              "    }\n",
              "\n",
              "    .colab-df-convert:hover {\n",
              "      background-color: #E2EBFA;\n",
              "      box-shadow: 0px 1px 2px rgba(60, 64, 67, 0.3), 0px 1px 3px 1px rgba(60, 64, 67, 0.15);\n",
              "      fill: #174EA6;\n",
              "    }\n",
              "\n",
              "    [theme=dark] .colab-df-convert {\n",
              "      background-color: #3B4455;\n",
              "      fill: #D2E3FC;\n",
              "    }\n",
              "\n",
              "    [theme=dark] .colab-df-convert:hover {\n",
              "      background-color: #434B5C;\n",
              "      box-shadow: 0px 1px 3px 1px rgba(0, 0, 0, 0.15);\n",
              "      filter: drop-shadow(0px 1px 2px rgba(0, 0, 0, 0.3));\n",
              "      fill: #FFFFFF;\n",
              "    }\n",
              "  </style>\n",
              "\n",
              "      <script>\n",
              "        const buttonEl =\n",
              "          document.querySelector('#df-7a29f12e-ad09-4b17-a677-4253ccf9a3c1 button.colab-df-convert');\n",
              "        buttonEl.style.display =\n",
              "          google.colab.kernel.accessAllowed ? 'block' : 'none';\n",
              "\n",
              "        async function convertToInteractive(key) {\n",
              "          const element = document.querySelector('#df-7a29f12e-ad09-4b17-a677-4253ccf9a3c1');\n",
              "          const dataTable =\n",
              "            await google.colab.kernel.invokeFunction('convertToInteractive',\n",
              "                                                     [key], {});\n",
              "          if (!dataTable) return;\n",
              "\n",
              "          const docLinkHtml = 'Like what you see? Visit the ' +\n",
              "            '<a target=\"_blank\" href=https://colab.research.google.com/notebooks/data_table.ipynb>data table notebook</a>'\n",
              "            + ' to learn more about interactive tables.';\n",
              "          element.innerHTML = '';\n",
              "          dataTable['output_type'] = 'display_data';\n",
              "          await google.colab.output.renderOutput(dataTable, element);\n",
              "          const docLink = document.createElement('div');\n",
              "          docLink.innerHTML = docLinkHtml;\n",
              "          element.appendChild(docLink);\n",
              "        }\n",
              "      </script>\n",
              "    </div>\n",
              "  </div>\n",
              "  "
            ]
          },
          "metadata": {},
          "execution_count": 24
        }
      ]
    },
    {
      "cell_type": "markdown",
      "source": [
        "Codigo Alex Mate"
      ],
      "metadata": {
        "id": "mEwcubwI1lg5"
      }
    },
    {
      "cell_type": "code",
      "source": [
        "import matplotlib.pyplot as plt\n",
        "import numpy as np #matlab de python\n",
        "from sklearn import datasets, linear_model\n",
        "from sklearn.metrics import mean_squared_error, r2_score #MSE función de costo\n",
        "\n",
        "#here we just organize our dataset in order to only have inputs and outputs\n",
        "\n",
        "#outputs\n",
        "score_output_Math = 'math score'\n",
        "score_output_Reading = 'reading score'\n",
        "score_output_Writing = 'writing score'\n",
        "output_Math = 'math_prediction'\n",
        "output_Reading = 'reading_prediction'\n",
        "output_Writing = 'writing_prediction'\n",
        "\n",
        "\n",
        "#inputs\n",
        "all_X = df.columns.tolist()\n",
        "all_X.remove(output_Math)\n",
        "all_X.remove(output_Reading)\n",
        "all_X.remove(output_Writing)\n",
        "all_X.remove(score_output_Math)\n",
        "all_X.remove(score_output_Reading)\n",
        "all_X.remove(score_output_Writing)"
      ],
      "metadata": {
        "id": "eKzJkke9co6b"
      },
      "execution_count": null,
      "outputs": []
    },
    {
      "cell_type": "code",
      "source": [
        "#here we can visualize which ones will be our inputs, as wanted\n",
        "all_X"
      ],
      "metadata": {
        "colab": {
          "base_uri": "https://localhost:8080/"
        },
        "id": "OpBsNYQ1DNf5",
        "outputId": "72308ab5-3e90-46b3-8c8b-3e253124bfa4"
      },
      "execution_count": null,
      "outputs": [
        {
          "output_type": "execute_result",
          "data": {
            "text/plain": [
              "['gender',\n",
              " 'race/ethnicity',\n",
              " 'parental level of education',\n",
              " 'lunch',\n",
              " 'test preparation course']"
            ]
          },
          "metadata": {},
          "execution_count": 26
        }
      ]
    },
    {
      "cell_type": "code",
      "source": [
        "#we need to manage the data of our inputs\n",
        "all_X_values = df[all_X].values\n",
        "\n",
        "# Use only one feature, gender. \n",
        "#all_X_values = df['gender'].values \n",
        "#all_X_values = np.reshape(all_X_values, (-1, 1))#column vector\n",
        "\n",
        "# Use only one feature, race/ethnicity. \n",
        "#all_X_values = df['race/ethnicity'].values \n",
        "#all_X_values = np.reshape(all_X_values, (-1, 1))#column vector\n",
        "\n",
        "# Use only one feature, parental level of education. \n",
        "#all_X_values = df['parental level of education'].values \n",
        "#all_X_values = np.reshape(all_X_values, (-1, 1))#column vector\n",
        "\n",
        "# Use only one feature, lunch. \n",
        "#all_X_values = df['lunch'].values \n",
        "#all_X_values = np.reshape(all_X_values, (-1, 1))#column vector\n",
        "\n",
        "# Use only one feature, test preparation course. \n",
        "#all_X_values = df['test preparation course'].values \n",
        "#all_X_values = np.reshape(all_X_values, (-1, 1))#column vector\n",
        "\n",
        "\n",
        "#we need to manage the data of our outputs (for my case is the math test only)\n",
        "math_score_Y = df[output_Math].values\n",
        "\n",
        "#split the data into training/testing sets\n",
        "all_X_values_train = all_X_values[:-200] \n",
        "all_X_values_test = all_X_values[-200:] #last 200 for test\n",
        "\n",
        "#split the targets into training/testing sets\n",
        "math_score_Y_train = math_score_Y[:-200]\n",
        "math_score_Y_test = math_score_Y[-200:] \n",
        "\n",
        "#As accorded, since we are dealing with 1000 rows of data, we are going to use 800 for training our model and 200 for testing it"
      ],
      "metadata": {
        "id": "LDvN2ppBENlE"
      },
      "execution_count": null,
      "outputs": []
    },
    {
      "cell_type": "code",
      "source": [
        "# Create linear regression object\n",
        "regr = linear_model.LinearRegression()\n",
        "\n",
        "# normalize data to have zero mean and std one (feature scaling)\n",
        "from sklearn.preprocessing import StandardScaler\n",
        "scaler = StandardScaler()\n",
        "scaler.fit(all_X_values_train)# scaler fit is just for training dataset \n",
        "all_X_values_train_normalized = scaler.transform(all_X_values_train) #normalize training set\n",
        "\n",
        "# Train the model using the training sets\n",
        "regr.fit(all_X_values_train_normalized, math_score_Y_train) # 1. REPRESENTAR hypothesis, 2. EVALUAR MSE Error Cuadratico Medio 3. OPTIMIZAR (Gradient Descent)\n",
        "\n",
        "# Make predictions using the testing set\n",
        "all_X_values_test_normalized = scaler.transform(all_X_values_test) #normalize test set \n",
        "math_score_Y_pred = regr.predict(all_X_values_test_normalized)\n",
        "\n",
        "# The coefficients theta_0 (inter.), theta_1 (pendiente)\n",
        "print(\"Coefficients: \\n\", \"theta_values = \", regr.coef_, \" theta_0  = \", regr.intercept_)\n",
        "#print(\"Coefficients: \\n\", regr.coef_, regr.intercept_)\n",
        "# The mean squared error\n",
        "print(\"Mean squared error (MSE Cost): %.2f\" % mean_squared_error(math_score_Y_test, math_score_Y_pred))\n",
        "# The coefficient of determination: 1 is perfect prediction, varía entre 0 y 1\n",
        "print(\"Coefficient of determination: %.2f\" % r2_score(math_score_Y_test, math_score_Y_pred))\n",
        "\n",
        "#Since we are dealing with multiple variables, plotting the result is not a viable option\n",
        "\n",
        "# When we deal with only one input, we can get the plot outputs\n",
        "#plt.scatter(all_X_values_test_normalized, math_score_Y_test, color=\"black\")\n",
        "#plt.plot(all_X_values_test_normalized, math_score_Y_pred, color=\"blue\", linewidth=3)\n",
        "\n",
        "#plt.xticks(())\n",
        "#plt.yticks(())\n",
        "\n",
        "#plt.show()"
      ],
      "metadata": {
        "colab": {
          "base_uri": "https://localhost:8080/"
        },
        "id": "ZGHG_Y9jA496",
        "outputId": "d2ce2a9e-1706-4e10-ef73-231cf50fa978"
      },
      "execution_count": null,
      "outputs": [
        {
          "output_type": "stream",
          "name": "stdout",
          "text": [
            "Coefficients: \n",
            " theta_values =  [ 0.06351088  0.07460251  0.04168195 -0.10884553  0.06556975]  theta_0  =  0.38999999999999996\n",
            "Mean squared error (MSE Cost): 0.20\n",
            "Coefficient of determination: 0.15\n"
          ]
        }
      ]
    },
    {
      "cell_type": "code",
      "source": [
        "all_X_values_train_normalized[0:10]"
      ],
      "metadata": {
        "colab": {
          "base_uri": "https://localhost:8080/"
        },
        "id": "JfndBlKkHqR7",
        "outputId": "64e6eb50-1917-423c-9335-e36622f5b6ef"
      },
      "execution_count": null,
      "outputs": [
        {
          "output_type": "execute_result",
          "data": {
            "text/plain": [
              "array([[-0.96801137, -1.02089777, -0.28414795, -0.7257531 , -0.73985727],\n",
              "       [-0.96801137, -0.14364942,  0.27574949, -0.7257531 ,  1.35161205],\n",
              "       [-0.96801137, -1.02089777,  0.83564694, -0.7257531 , -0.73985727],\n",
              "       [ 1.03304572, -1.89814613,  1.39554439,  1.37787907, -0.73985727],\n",
              "       [ 1.03304572, -0.14364942,  0.27574949, -0.7257531 , -0.73985727],\n",
              "       [-0.96801137, -1.02089777,  1.39554439, -0.7257531 , -0.73985727],\n",
              "       [-0.96801137, -1.02089777,  0.27574949, -0.7257531 ,  1.35161205],\n",
              "       [ 1.03304572, -1.02089777,  0.27574949,  1.37787907, -0.73985727],\n",
              "       [ 1.03304572,  0.73359894, -0.8440454 ,  1.37787907,  1.35161205],\n",
              "       [-0.96801137, -1.02089777, -0.8440454 ,  1.37787907, -0.73985727]])"
            ]
          },
          "metadata": {},
          "execution_count": 29
        }
      ]
    },
    {
      "cell_type": "code",
      "source": [
        "from sklearn.linear_model import LogisticRegression\n",
        "import numpy as np # numpy~Matlab\n",
        "lambda_value = 110 #hyperparameter \n",
        "\n",
        "classifier = LogisticRegression(penalty='none').fit(all_X_values_train_normalized, math_score_Y_train) #penalty='none' -> sin regularización , lambda =0, representación+eval+opt\n",
        "#classifier = LogisticRegression(penalty='l2', C=1/lambda_value, max_iter=10000).fit(all_X_values_train_normalized, math_score_Y_train) #spenalty='l2' -> con regularización \n",
        "\n",
        "accuracy = classifier.score(all_X_values_train_normalized, math_score_Y_train) #exactitud en el conjunto de entrenamiento\n",
        "print(accuracy)"
      ],
      "metadata": {
        "colab": {
          "base_uri": "https://localhost:8080/"
        },
        "id": "1RY5yqMLIu3v",
        "outputId": "bee4fc5b-ee11-43e4-c4d4-7f31d7b5f28a"
      },
      "execution_count": null,
      "outputs": [
        {
          "output_type": "stream",
          "name": "stdout",
          "text": [
            "0.67125\n"
          ]
        },
        {
          "output_type": "stream",
          "name": "stderr",
          "text": [
            "/usr/local/lib/python3.9/dist-packages/sklearn/linear_model/_logistic.py:1173: FutureWarning: `penalty='none'`has been deprecated in 1.2 and will be removed in 1.4. To keep the past behaviour, set `penalty=None`.\n",
            "  warnings.warn(\n"
          ]
        }
      ]
    },
    {
      "cell_type": "markdown",
      "source": [
        "Codigo Emi Writing"
      ],
      "metadata": {
        "id": "4S__SUw91nuo"
      }
    },
    {
      "cell_type": "code",
      "source": [
        "#we need to manage the data of our inputs\n",
        "all_X_values = df[all_X].values\n",
        "\n",
        "#we need to manage the data of our outputs (for my case is the math test only)\n",
        "writing_score_Y = df[output_Writing].values\n",
        "\n",
        "#split the data into training/testing sets\n",
        "all_X_values_train = all_X_values[:-200] \n",
        "all_X_values_test = all_X_values[-200:] #last 200 for test\n",
        "\n",
        "#split the targets into training/testing sets\n",
        "writing_score_Y_train = writing_score_Y[:-200]\n",
        "writing_score_Y_test = writing_score_Y[-200:] \n",
        "\n",
        "#As accorded, since we are dealing with 1000 rows of data, we are going to use 800 for training our model and 200 for testing it"
      ],
      "metadata": {
        "id": "4XlwgFOy6uTA"
      },
      "execution_count": null,
      "outputs": []
    },
    {
      "cell_type": "code",
      "source": [
        "# Create linear regression object\n",
        "regr = linear_model.LinearRegression()\n",
        "\n",
        "# normalize data to have zero mean and std one (feature scaling)\n",
        "from sklearn.preprocessing import StandardScaler\n",
        "scaler = StandardScaler()\n",
        "scaler.fit(all_X_values_train)# scaler fit is just for training dataset \n",
        "all_X_values_train_normalized = scaler.transform(all_X_values_train) #normalize training set\n",
        "\n",
        "# Train the model using the training sets\n",
        "regr.fit(all_X_values_train_normalized, writing_score_Y_train) # 1. REPRESENTAR hypothesis, 2. EVALUAR MSE Error Cuadratico Medio 3. OPTIMIZAR (Gradient Descent)\n",
        "\n",
        "# Make predictions using the testing set\n",
        "all_X_values_test_normalized = scaler.transform(all_X_values_test) #normalize test set \n",
        "writing_score_Y_pred = regr.predict(all_X_values_test_normalized)\n",
        "\n",
        "# The coefficients theta_0 (inter.), theta_1 (pendiente)\n",
        "print(\"Coefficients: \\n\", \"theta_values = \", regr.coef_, \" theta_0  = \", regr.intercept_)\n",
        "#print(\"Coefficients: \\n\", regr.coef_, regr.intercept_)\n",
        "# The mean squared error\n",
        "print(\"Mean squared error (MSE Cost): %.2f\" % mean_squared_error(writing_score_Y_test, writing_score_Y_pred))\n",
        "# The coefficient of determination: 1 is perfect prediction, varía entre 0 y 1\n",
        "print(\"Coefficient of determination: %.2f\" % r2_score(writing_score_Y_test, writing_score_Y_pred))\n",
        "\n",
        "#Since we are dealing with multiple variables, plotting the result is not a viable option"
      ],
      "metadata": {
        "colab": {
          "base_uri": "https://localhost:8080/"
        },
        "id": "cKjaEwFB7uxd",
        "outputId": "1eeb1fe5-d96d-4084-b749-4c0f24829238"
      },
      "execution_count": null,
      "outputs": [
        {
          "output_type": "stream",
          "name": "stdout",
          "text": [
            "Coefficients: \n",
            " theta_values =  [-0.10024443  0.05637113  0.04738999 -0.08833109  0.10407523]  theta_0  =  0.4875\n",
            "Mean squared error (MSE Cost): 0.21\n",
            "Coefficient of determination: 0.14\n"
          ]
        }
      ]
    },
    {
      "cell_type": "code",
      "source": [
        "from sklearn.linear_model import LogisticRegression\n",
        "import numpy as np # numpy~Matlab\n",
        "lambda_value = 110 #hyperparameter \n",
        "\n",
        "classifier = LogisticRegression(penalty='none').fit(all_X_values_train_normalized, math_score_Y_train) #penalty='none' -> sin regularización , lambda =0, representación+eval+opt\n",
        "#classifier = LogisticRegression(penalty='l2', C=1/lambda_value, max_iter=10000).fit(all_X_values_train_normalized, writing_score_Y_train) #spenalty='l2' -> con regularización \n",
        "\n",
        "accuracy = classifier.score(all_X_values_train_normalized, writing_score_Y_train) #exactitud en el conjunto de entrenamiento\n",
        "print(accuracy)"
      ],
      "metadata": {
        "colab": {
          "base_uri": "https://localhost:8080/"
        },
        "id": "zZpM-xVOAgNi",
        "outputId": "ddd0c4d5-9882-4a67-c870-6e62adfca91e"
      },
      "execution_count": null,
      "outputs": [
        {
          "output_type": "stream",
          "name": "stdout",
          "text": [
            "0.58125\n"
          ]
        },
        {
          "output_type": "stream",
          "name": "stderr",
          "text": [
            "/usr/local/lib/python3.9/dist-packages/sklearn/linear_model/_logistic.py:1173: FutureWarning: `penalty='none'`has been deprecated in 1.2 and will be removed in 1.4. To keep the past behaviour, set `penalty=None`.\n",
            "  warnings.warn(\n"
          ]
        }
      ]
    },
    {
      "cell_type": "markdown",
      "source": [
        "Codigo Juan READING"
      ],
      "metadata": {
        "id": "5QsTqJgN1pEB"
      }
    },
    {
      "cell_type": "code",
      "source": [
        "#we need to manage the data of our inputs\n",
        "all_X_values = df[all_X].values\n",
        "\n",
        "#we need to manage the data of our outputs (for my case is the math test only)\n",
        "reading_score_Y = df[output_Reading].values\n",
        "\n",
        "#split the data into training/testing sets\n",
        "all_X_values_train = all_X_values[:-200] \n",
        "all_X_values_test = all_X_values[-200:] #last 200 for test\n",
        "\n",
        "#split the targets into training/testing sets\n",
        "reading_score_Y_train = reading_score_Y[:-200]\n",
        "reading_score_Y_test = reading_score_Y[-200:] \n",
        "\n",
        "# Create linear regression object\n",
        "from sklearn.linear_model import Lasso\n",
        "\n",
        "#regr_reading=linear_model.LinearRegression()\n",
        "lambda_value = 10000 #hyperparameter \n",
        "regr_reading = Lasso(alpha=1)\n",
        "\n",
        "# normalize data to have zero mean and std one (feature scaling)\n",
        "from sklearn.preprocessing import StandardScaler\n",
        "scaler = StandardScaler()\n",
        "scaler.fit(all_X_values_train)# scaler fit is just for training dataset \n",
        "all_X_values_train_normalized = scaler.transform(all_X_values_train) #normalize training set\n",
        "\n",
        "# Train the model using the training sets\n",
        "regr_reading.fit(all_X_values_train_normalized, math_score_Y_train) # 1. REPRESENTAR hypothesis, 2. EVALUAR MSE Error Cuadratico Medio 3. OPTIMIZAR (Gradient Descent)\n",
        "\n",
        "# Make predictions using the testing set\n",
        "all_X_values_test_normalized = scaler.transform(all_X_values_test) #normalize test set \n",
        "reading_score_Y_pred = regr_reading.predict(all_X_values_test_normalized)\n",
        "\n",
        "# The coefficients theta_0 (inter.), theta_1 (pendiente)\n",
        "print(\"Coefficients: \\n\", \"theta_values = \", regr_reading.coef_, \" theta_0  = \", regr_reading.intercept_)\n",
        "#print(\"Coefficients: \\n\", regr.coef_, regr.intercept_)\n",
        "# The mean squared error\n",
        "print(\"Mean squared error (MSE Cost): %.2f\" % mean_squared_error(reading_score_Y_test, reading_score_Y_pred))\n",
        "# The coefficient of determination: 1 is perfect prediction, varía entre 0 y 1\n",
        "print(\"Coefficient of determination: %.2f\" % r2_score(reading_score_Y_test, reading_score_Y_pred))"
      ],
      "metadata": {
        "id": "K0H-e7ee1rAY",
        "colab": {
          "base_uri": "https://localhost:8080/"
        },
        "outputId": "8d7705a0-6471-4418-ecac-e0be0d9072ba"
      },
      "execution_count": null,
      "outputs": [
        {
          "output_type": "stream",
          "name": "stdout",
          "text": [
            "Coefficients: \n",
            " theta_values =  [ 0.  0.  0. -0.  0.]  theta_0  =  0.39\n",
            "Mean squared error (MSE Cost): 0.26\n",
            "Coefficient of determination: -0.04\n"
          ]
        }
      ]
    },
    {
      "cell_type": "code",
      "source": [],
      "metadata": {
        "id": "c4Xre8_AP2uG"
      },
      "execution_count": null,
      "outputs": []
    }
  ]
}
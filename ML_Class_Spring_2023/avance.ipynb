{
  "nbformat": 4,
  "nbformat_minor": 0,
  "metadata": {
    "colab": {
      "provenance": []
    },
    "kernelspec": {
      "name": "python3",
      "display_name": "Python 3"
    },
    "language_info": {
      "name": "python"
    }
  },
  "cells": [
    {
      "cell_type": "markdown",
      "source": [
        "https://colab.research.google.com/drive/1yHwUpFi4nCX-Yr3WBFMRfrW6wVQHqUud?usp=sharing "
      ],
      "metadata": {
        "id": "8Z_MHoGaJjmJ"
      }
    },
    {
      "cell_type": "code",
      "source": [
        "import pandas as pd\n",
        "import numpy as np\n",
        "import matplotlib.pyplot as plt\n",
        "import seaborn as sns\n",
        "import os\n",
        "from sklearn import datasets, linear_model\n",
        "  \n",
        "# reading the csv file\n",
        "df = pd.read_csv(\"sample_data/StudentsPerformance.csv\")\n",
        "  \n",
        "# updating the column value/data\n",
        "\n",
        "#gender\n",
        "df['gender'] = df['gender'].replace({'female': '1'})\n",
        "df['gender'] = df['gender'].replace({'male': '2'})\n",
        "\n",
        "#race/ethnicity\n",
        "df['race/ethnicity'] = df['race/ethnicity'].replace({'group A':'1'})\n",
        "df['race/ethnicity'] = df['race/ethnicity'].replace({'group B':'2'})\n",
        "df['race/ethnicity'] = df['race/ethnicity'].replace({'group C':'3'})\n",
        "df['race/ethnicity'] = df['race/ethnicity'].replace({'group D':'4'})\n",
        "df['race/ethnicity'] = df['race/ethnicity'].replace({'group E':'5'})\n",
        "\n",
        "#parental level of education\n",
        "df['parental level of education'] = df['parental level of education'].replace({'some high school':'1'})\n",
        "df['parental level of education'] = df['parental level of education'].replace({'high school':'2'})\n",
        "df['parental level of education'] = df['parental level of education'].replace({\"bachelor's degree\":'3'})\n",
        "df['parental level of education'] = df['parental level of education'].replace({'some college':'4'})\n",
        "df['parental level of education'] = df['parental level of education'].replace({\"master's degree\":'5'})\n",
        "df['parental level of education'] = df['parental level of education'].replace({\"associate's degree\":'6'})\n",
        "\n",
        "#lunch\n",
        "df['lunch'] = df['lunch'].replace({'standard':'1'})\n",
        "df['lunch'] = df['lunch'].replace({'free/reduced':'2'})\n",
        "\n",
        "\n",
        "#test preparation course\n",
        "df['test preparation course'] = df['test preparation course'].replace({'none':'1'})\n",
        "df['test preparation course'] = df['test preparation course'].replace({'completed':'2'})\n",
        "  \n",
        "df.head()"
      ],
      "metadata": {
        "id": "N_GBpJRZIHfX",
        "colab": {
          "base_uri": "https://localhost:8080/",
          "height": 206
        },
        "outputId": "3aa250a9-caef-4f5c-92c6-06e3b2f25bf4"
      },
      "execution_count": null,
      "outputs": [
        {
          "output_type": "execute_result",
          "data": {
            "text/plain": [
              "  gender race/ethnicity parental level of education lunch  \\\n",
              "0      1              2                           3     1   \n",
              "1      1              3                           4     1   \n",
              "2      1              2                           5     1   \n",
              "3      2              1                           6     2   \n",
              "4      2              3                           4     1   \n",
              "\n",
              "  test preparation course  math score  reading score  writing score  \n",
              "0                       1          72             72             74  \n",
              "1                       2          69             90             88  \n",
              "2                       1          90             95             93  \n",
              "3                       1          47             57             44  \n",
              "4                       1          76             78             75  "
            ],
            "text/html": [
              "\n",
              "  <div id=\"df-b44df261-2f9a-420d-aa10-af7b5ebf0ed4\">\n",
              "    <div class=\"colab-df-container\">\n",
              "      <div>\n",
              "<style scoped>\n",
              "    .dataframe tbody tr th:only-of-type {\n",
              "        vertical-align: middle;\n",
              "    }\n",
              "\n",
              "    .dataframe tbody tr th {\n",
              "        vertical-align: top;\n",
              "    }\n",
              "\n",
              "    .dataframe thead th {\n",
              "        text-align: right;\n",
              "    }\n",
              "</style>\n",
              "<table border=\"1\" class=\"dataframe\">\n",
              "  <thead>\n",
              "    <tr style=\"text-align: right;\">\n",
              "      <th></th>\n",
              "      <th>gender</th>\n",
              "      <th>race/ethnicity</th>\n",
              "      <th>parental level of education</th>\n",
              "      <th>lunch</th>\n",
              "      <th>test preparation course</th>\n",
              "      <th>math score</th>\n",
              "      <th>reading score</th>\n",
              "      <th>writing score</th>\n",
              "    </tr>\n",
              "  </thead>\n",
              "  <tbody>\n",
              "    <tr>\n",
              "      <th>0</th>\n",
              "      <td>1</td>\n",
              "      <td>2</td>\n",
              "      <td>3</td>\n",
              "      <td>1</td>\n",
              "      <td>1</td>\n",
              "      <td>72</td>\n",
              "      <td>72</td>\n",
              "      <td>74</td>\n",
              "    </tr>\n",
              "    <tr>\n",
              "      <th>1</th>\n",
              "      <td>1</td>\n",
              "      <td>3</td>\n",
              "      <td>4</td>\n",
              "      <td>1</td>\n",
              "      <td>2</td>\n",
              "      <td>69</td>\n",
              "      <td>90</td>\n",
              "      <td>88</td>\n",
              "    </tr>\n",
              "    <tr>\n",
              "      <th>2</th>\n",
              "      <td>1</td>\n",
              "      <td>2</td>\n",
              "      <td>5</td>\n",
              "      <td>1</td>\n",
              "      <td>1</td>\n",
              "      <td>90</td>\n",
              "      <td>95</td>\n",
              "      <td>93</td>\n",
              "    </tr>\n",
              "    <tr>\n",
              "      <th>3</th>\n",
              "      <td>2</td>\n",
              "      <td>1</td>\n",
              "      <td>6</td>\n",
              "      <td>2</td>\n",
              "      <td>1</td>\n",
              "      <td>47</td>\n",
              "      <td>57</td>\n",
              "      <td>44</td>\n",
              "    </tr>\n",
              "    <tr>\n",
              "      <th>4</th>\n",
              "      <td>2</td>\n",
              "      <td>3</td>\n",
              "      <td>4</td>\n",
              "      <td>1</td>\n",
              "      <td>1</td>\n",
              "      <td>76</td>\n",
              "      <td>78</td>\n",
              "      <td>75</td>\n",
              "    </tr>\n",
              "  </tbody>\n",
              "</table>\n",
              "</div>\n",
              "      <button class=\"colab-df-convert\" onclick=\"convertToInteractive('df-b44df261-2f9a-420d-aa10-af7b5ebf0ed4')\"\n",
              "              title=\"Convert this dataframe to an interactive table.\"\n",
              "              style=\"display:none;\">\n",
              "        \n",
              "  <svg xmlns=\"http://www.w3.org/2000/svg\" height=\"24px\"viewBox=\"0 0 24 24\"\n",
              "       width=\"24px\">\n",
              "    <path d=\"M0 0h24v24H0V0z\" fill=\"none\"/>\n",
              "    <path d=\"M18.56 5.44l.94 2.06.94-2.06 2.06-.94-2.06-.94-.94-2.06-.94 2.06-2.06.94zm-11 1L8.5 8.5l.94-2.06 2.06-.94-2.06-.94L8.5 2.5l-.94 2.06-2.06.94zm10 10l.94 2.06.94-2.06 2.06-.94-2.06-.94-.94-2.06-.94 2.06-2.06.94z\"/><path d=\"M17.41 7.96l-1.37-1.37c-.4-.4-.92-.59-1.43-.59-.52 0-1.04.2-1.43.59L10.3 9.45l-7.72 7.72c-.78.78-.78 2.05 0 2.83L4 21.41c.39.39.9.59 1.41.59.51 0 1.02-.2 1.41-.59l7.78-7.78 2.81-2.81c.8-.78.8-2.07 0-2.86zM5.41 20L4 18.59l7.72-7.72 1.47 1.35L5.41 20z\"/>\n",
              "  </svg>\n",
              "      </button>\n",
              "      \n",
              "  <style>\n",
              "    .colab-df-container {\n",
              "      display:flex;\n",
              "      flex-wrap:wrap;\n",
              "      gap: 12px;\n",
              "    }\n",
              "\n",
              "    .colab-df-convert {\n",
              "      background-color: #E8F0FE;\n",
              "      border: none;\n",
              "      border-radius: 50%;\n",
              "      cursor: pointer;\n",
              "      display: none;\n",
              "      fill: #1967D2;\n",
              "      height: 32px;\n",
              "      padding: 0 0 0 0;\n",
              "      width: 32px;\n",
              "    }\n",
              "\n",
              "    .colab-df-convert:hover {\n",
              "      background-color: #E2EBFA;\n",
              "      box-shadow: 0px 1px 2px rgba(60, 64, 67, 0.3), 0px 1px 3px 1px rgba(60, 64, 67, 0.15);\n",
              "      fill: #174EA6;\n",
              "    }\n",
              "\n",
              "    [theme=dark] .colab-df-convert {\n",
              "      background-color: #3B4455;\n",
              "      fill: #D2E3FC;\n",
              "    }\n",
              "\n",
              "    [theme=dark] .colab-df-convert:hover {\n",
              "      background-color: #434B5C;\n",
              "      box-shadow: 0px 1px 3px 1px rgba(0, 0, 0, 0.15);\n",
              "      filter: drop-shadow(0px 1px 2px rgba(0, 0, 0, 0.3));\n",
              "      fill: #FFFFFF;\n",
              "    }\n",
              "  </style>\n",
              "\n",
              "      <script>\n",
              "        const buttonEl =\n",
              "          document.querySelector('#df-b44df261-2f9a-420d-aa10-af7b5ebf0ed4 button.colab-df-convert');\n",
              "        buttonEl.style.display =\n",
              "          google.colab.kernel.accessAllowed ? 'block' : 'none';\n",
              "\n",
              "        async function convertToInteractive(key) {\n",
              "          const element = document.querySelector('#df-b44df261-2f9a-420d-aa10-af7b5ebf0ed4');\n",
              "          const dataTable =\n",
              "            await google.colab.kernel.invokeFunction('convertToInteractive',\n",
              "                                                     [key], {});\n",
              "          if (!dataTable) return;\n",
              "\n",
              "          const docLinkHtml = 'Like what you see? Visit the ' +\n",
              "            '<a target=\"_blank\" href=https://colab.research.google.com/notebooks/data_table.ipynb>data table notebook</a>'\n",
              "            + ' to learn more about interactive tables.';\n",
              "          element.innerHTML = '';\n",
              "          dataTable['output_type'] = 'display_data';\n",
              "          await google.colab.output.renderOutput(dataTable, element);\n",
              "          const docLink = document.createElement('div');\n",
              "          docLink.innerHTML = docLinkHtml;\n",
              "          element.appendChild(docLink);\n",
              "        }\n",
              "      </script>\n",
              "    </div>\n",
              "  </div>\n",
              "  "
            ]
          },
          "metadata": {},
          "execution_count": 41
        }
      ]
    },
    {
      "cell_type": "markdown",
      "source": [
        "Codigo Alex Mate"
      ],
      "metadata": {
        "id": "mEwcubwI1lg5"
      }
    },
    {
      "cell_type": "code",
      "source": [
        "import matplotlib.pyplot as plt\n",
        "import numpy as np #matlab de python\n",
        "from sklearn import datasets, linear_model\n",
        "from sklearn.metrics import mean_squared_error, r2_score #MSE función de costo\n",
        "\n",
        "#here we just organize our dataset in order to only have inputs and outputs\n",
        "\n",
        "#outputs\n",
        "output_Math = 'math score'\n",
        "output_Reading = 'reading score'\n",
        "output_Writing = 'writing score'\n",
        "\n",
        "#inputs\n",
        "all_X = df.columns.tolist()\n",
        "all_X.remove(output_Math)\n",
        "all_X.remove(output_Reading)\n",
        "all_X.remove(output_Writing)"
      ],
      "metadata": {
        "id": "eKzJkke9co6b"
      },
      "execution_count": null,
      "outputs": []
    },
    {
      "cell_type": "code",
      "source": [
        "#here we can visualize which ones will be our inputs, as wanted\n",
        "all_X"
      ],
      "metadata": {
        "colab": {
          "base_uri": "https://localhost:8080/"
        },
        "id": "OpBsNYQ1DNf5",
        "outputId": "533d7c3b-878d-44d4-f309-04b3b47af6f2"
      },
      "execution_count": null,
      "outputs": [
        {
          "output_type": "execute_result",
          "data": {
            "text/plain": [
              "['gender',\n",
              " 'race/ethnicity',\n",
              " 'parental level of education',\n",
              " 'lunch',\n",
              " 'test preparation course']"
            ]
          },
          "metadata": {},
          "execution_count": 43
        }
      ]
    },
    {
      "cell_type": "code",
      "source": [
        "#we need to manage the data of our inputs\n",
        "#all_X_values = df[all_X].values\n",
        "\n",
        "# Use only one feature, gender. \n",
        "#all_X_values = df['gender'].values \n",
        "#all_X_values = np.reshape(all_X_values, (-1, 1))#column vector\n",
        "\n",
        "# Use only one feature, race/ethnicity. \n",
        "#all_X_values = df['race/ethnicity'].values \n",
        "#all_X_values = np.reshape(all_X_values, (-1, 1))#column vector\n",
        "\n",
        "# Use only one feature, parental level of education. \n",
        "all_X_values = df['parental level of education'].values \n",
        "all_X_values = np.reshape(all_X_values, (-1, 1))#column vector\n",
        "\n",
        "# Use only one feature, lunch. \n",
        "#all_X_values = df['lunch'].values \n",
        "#all_X_values = np.reshape(all_X_values, (-1, 1))#column vector\n",
        "\n",
        "# Use only one feature, test preparation course. \n",
        "#all_X_values = df['test preparation course'].values \n",
        "#all_X_values = np.reshape(all_X_values, (-1, 1))#column vector\n",
        "\n",
        "\n",
        "#we need to manage the data of our outputs (for my case is the math test only)\n",
        "math_score_Y = df[output_Math].values\n",
        "\n",
        "#split the data into training/testing sets\n",
        "all_X_values_train = all_X_values[:-200] \n",
        "all_X_values_test = all_X_values[-200:] #last 200 for test\n",
        "\n",
        "#split the targets into training/testing sets\n",
        "math_score_Y_train = math_score_Y[:-200]\n",
        "math_score_Y_test = math_score_Y[-200:] \n",
        "\n",
        "#As accorded, since we are dealing with 1000 rows of data, we are going to use 800 for training our model and 200 for testing it"
      ],
      "metadata": {
        "id": "LDvN2ppBENlE"
      },
      "execution_count": null,
      "outputs": []
    },
    {
      "cell_type": "code",
      "source": [
        "# Create linear regression object\n",
        "regr = linear_model.LinearRegression()\n",
        "\n",
        "# normalize data to have zero mean and std one (feature scaling)\n",
        "from sklearn.preprocessing import StandardScaler\n",
        "scaler = StandardScaler()\n",
        "scaler.fit(all_X_values_train)# scaler fit is just for training dataset \n",
        "all_X_values_train_normalized = scaler.transform(all_X_values_train) #normalize training set\n",
        "\n",
        "# Train the model using the training sets\n",
        "regr.fit(all_X_values_train_normalized, math_score_Y_train) # 1. REPRESENTAR hypothesis, 2. EVALUAR MSE Error Cuadratico Medio 3. OPTIMIZAR (Gradient Descent)\n",
        "\n",
        "# Make predictions using the testing set\n",
        "all_X_values_test_normalized = scaler.transform(all_X_values_test) #normalize test set \n",
        "math_score_Y_pred = regr.predict(all_X_values_test_normalized)\n",
        "\n",
        "# The coefficients theta_0 (inter.), theta_1 (pendiente)\n",
        "print(\"Coefficients: \\n\", \"theta_values = \", regr.coef_, \" theta_0  = \", regr.intercept_)\n",
        "#print(\"Coefficients: \\n\", regr.coef_, regr.intercept_)\n",
        "# The mean squared error\n",
        "print(\"Mean squared error (MSE Cost): %.2f\" % mean_squared_error(math_score_Y_test, math_score_Y_pred))\n",
        "# The coefficient of determination: 1 is perfect prediction, varía entre 0 y 1\n",
        "print(\"Coefficient of determination: %.2f\" % r2_score(math_score_Y_test, math_score_Y_pred))\n",
        "\n",
        "#Since we are dealing with multiple variables, plotting the result is not a viable option\n",
        "\n",
        "# When we deal with only one input, we can get the plot outputs\n",
        "plt.scatter(all_X_values_test_normalized, math_score_Y_test, color=\"black\")\n",
        "plt.plot(all_X_values_test_normalized, math_score_Y_pred, color=\"blue\", linewidth=3)\n",
        "\n",
        "plt.xticks(())\n",
        "plt.yticks(())\n",
        "\n",
        "plt.show()"
      ],
      "metadata": {
        "colab": {
          "base_uri": "https://localhost:8080/",
          "height": 475
        },
        "id": "ZGHG_Y9jA496",
        "outputId": "d40e918b-6176-492d-9e4c-8614b4d844a7"
      },
      "execution_count": null,
      "outputs": [
        {
          "output_type": "stream",
          "name": "stdout",
          "text": [
            "Coefficients: \n",
            " theta_values =  [1.83617143]  theta_0  =  65.98625\n",
            "Mean squared error (MSE Cost): 237.86\n",
            "Coefficient of determination: 0.02\n"
          ]
        },
        {
          "output_type": "display_data",
          "data": {
            "text/plain": [
              "<Figure size 640x480 with 1 Axes>"
            ],
            "image/png": "[encoded data removed]"
          },
          "metadata": {}
        }
      ]
    },
    {
      "cell_type": "code",
      "source": [
        "all_X_values_train_normalized[0:10]"
      ],
      "metadata": {
        "colab": {
          "base_uri": "https://localhost:8080/"
        },
        "id": "JfndBlKkHqR7",
        "outputId": "c75422f5-b822-4921-a1fe-41f89699dfaa"
      },
      "execution_count": null,
      "outputs": [
        {
          "output_type": "execute_result",
          "data": {
            "text/plain": [
              "array([[0.  , 0.25, 0.4 , 0.  , 0.  ],\n",
              "       [0.  , 0.5 , 0.6 , 0.  , 1.  ],\n",
              "       [0.  , 0.25, 0.8 , 0.  , 0.  ],\n",
              "       [1.  , 0.  , 1.  , 1.  , 0.  ],\n",
              "       [1.  , 0.5 , 0.6 , 0.  , 0.  ],\n",
              "       [0.  , 0.25, 1.  , 0.  , 0.  ],\n",
              "       [0.  , 0.25, 0.6 , 0.  , 1.  ],\n",
              "       [1.  , 0.25, 0.6 , 1.  , 0.  ],\n",
              "       [1.  , 0.75, 0.2 , 1.  , 1.  ],\n",
              "       [0.  , 0.25, 0.2 , 1.  , 0.  ]])"
            ]
          },
          "metadata": {},
          "execution_count": 11
        }
      ]
    },
    {
      "cell_type": "code",
      "source": [
        "from sklearn.linear_model import LogisticRegression\n",
        "import numpy as np # numpy~Matlab\n",
        "lambda_value = 0.001 #hyperparameter \n",
        "\n",
        "#classifier = LogisticRegression(penalty='none').fit(all_X_values_train_normalized, math_score_Y_train) #penalty='none' -> sin regularización , lambda =0, representación+eval+opt\n",
        "classifier = LogisticRegression(penalty='l2', C=1/lambda_value, max_iter=10000).fit(all_X_values_train_normalized, math_score_Y_train) #spenalty='l2' -> con regularización \n",
        "\n",
        "accuracy = classifier.score(all_X_values_train_normalized, math_score_Y_train) #exactitud en el conjunto de entrenamiento\n",
        "print(accuracy)"
      ],
      "metadata": {
        "colab": {
          "base_uri": "https://localhost:8080/"
        },
        "id": "1RY5yqMLIu3v",
        "outputId": "d461a647-3062-407c-b8c7-a0b3e8eae523"
      },
      "execution_count": null,
      "outputs": [
        {
          "output_type": "stream",
          "name": "stdout",
          "text": [
            "0.04625\n"
          ]
        }
      ]
    },
    {
      "cell_type": "markdown",
      "source": [
        "Codigo Emi Writing"
      ],
      "metadata": {
        "id": "4S__SUw91nuo"
      }
    },
    {
      "cell_type": "code",
      "source": [
        "#we need to manage the data of our inputs\n",
        "all_X_values = df[all_X].values\n",
        "\n",
        "#we need to manage the data of our outputs (for my case is the math test only)\n",
        "writing_score_Y = df[output_Writing].values\n",
        "\n",
        "#split the data into training/testing sets\n",
        "all_X_values_train = all_X_values[:-200] \n",
        "all_X_values_test = all_X_values[-200:] #last 200 for test\n",
        "\n",
        "#split the targets into training/testing sets\n",
        "writing_score_Y_train = writing_score_Y[:-200]\n",
        "writing_score_Y_test = writing_score_Y[-200:] \n",
        "\n",
        "#As accorded, since we are dealing with 1000 rows of data, we are going to use 800 for training our model and 200 for testing it"
      ],
      "metadata": {
        "id": "4XlwgFOy6uTA"
      },
      "execution_count": null,
      "outputs": []
    },
    {
      "cell_type": "code",
      "source": [
        "# Create linear regression object\n",
        "regr = linear_model.LinearRegression()\n",
        "\n",
        "# normalize data to have zero mean and std one (feature scaling)\n",
        "from sklearn.preprocessing import StandardScaler\n",
        "scaler = StandardScaler()\n",
        "scaler.fit(all_X_values_train)# scaler fit is just for training dataset \n",
        "all_X_values_train_normalized = scaler.transform(all_X_values_train) #normalize training set\n",
        "\n",
        "# Train the model using the training sets\n",
        "regr.fit(all_X_values_train_normalized, writing_score_Y_train) # 1. REPRESENTAR hypothesis, 2. EVALUAR MSE Error Cuadratico Medio 3. OPTIMIZAR (Gradient Descent)\n",
        "\n",
        "# Make predictions using the testing set\n",
        "all_X_values_test_normalized = scaler.transform(all_X_values_test) #normalize test set \n",
        "writing_score_Y_pred = regr.predict(all_X_values_test_normalized)\n",
        "\n",
        "# The coefficients theta_0 (inter.), theta_1 (pendiente)\n",
        "print(\"Coefficients: \\n\", \"theta_values = \", regr.coef_, \" theta_0  = \", regr.intercept_)\n",
        "#print(\"Coefficients: \\n\", regr.coef_, regr.intercept_)\n",
        "# The mean squared error\n",
        "print(\"Mean squared error (MSE Cost): %.2f\" % mean_squared_error(writing_score_Y_test, writing_score_Y_pred))\n",
        "# The coefficient of determination: 1 is perfect prediction, varía entre 0 y 1\n",
        "print(\"Coefficient of determination: %.2f\" % r2_score(writing_score_Y_test, writing_score_Y_pred))\n",
        "\n",
        "#Since we are dealing with multiple variables, plotting the result is not a viable option"
      ],
      "metadata": {
        "colab": {
          "base_uri": "https://localhost:8080/"
        },
        "id": "cKjaEwFB7uxd",
        "outputId": "0037a978-a3cc-46a4-bb4c-f2a198e78190"
      },
      "execution_count": null,
      "outputs": [
        {
          "output_type": "stream",
          "name": "stdout",
          "text": [
            "Coefficients: \n",
            " theta_values =  [-4.64148619  1.82684455  2.20106493 -3.63872622  5.07625574]  theta_0  =  67.88375\n",
            "Mean squared error (MSE Cost): 178.82\n",
            "Coefficient of determination: 0.26\n"
          ]
        }
      ]
    },
    {
      "cell_type": "code",
      "source": [
        "from sklearn.linear_model import LogisticRegression\n",
        "import numpy as np # numpy~Matlab\n",
        "lambda_value = 0.001 #hyperparameter \n",
        "\n",
        "#classifier = LogisticRegression(penalty='none').fit(all_X_values_train_normalized, math_score_Y_train) #penalty='none' -> sin regularización , lambda =0, representación+eval+opt\n",
        "classifier = LogisticRegression(penalty='l2', C=1/lambda_value, max_iter=10000).fit(all_X_values_train_normalized, writing_score_Y_train) #spenalty='l2' -> con regularización \n",
        "\n",
        "accuracy = classifier.score(all_X_values_train_normalized, writing_score_Y_train) #exactitud en el conjunto de entrenamiento\n",
        "print(accuracy)"
      ],
      "metadata": {
        "colab": {
          "base_uri": "https://localhost:8080/"
        },
        "id": "zZpM-xVOAgNi",
        "outputId": "f9b15a41-211b-45bc-96d3-5ead0c239b54"
      },
      "execution_count": null,
      "outputs": [
        {
          "output_type": "stream",
          "name": "stdout",
          "text": [
            "0.09\n"
          ]
        }
      ]
    },
    {
      "cell_type": "markdown",
      "source": [
        "Codigo Juan READING"
      ],
      "metadata": {
        "id": "5QsTqJgN1pEB"
      }
    },
    {
      "cell_type": "code",
      "source": [
        "#we need to manage the data of our inputs\n",
        "all_X_values = df[all_X].values\n",
        "\n",
        "#we need to manage the data of our outputs (for my case is the math test only)\n",
        "reading_score_Y = df[output_Reading].values\n",
        "\n",
        "#split the data into training/testing sets\n",
        "all_X_values_train = all_X_values[:-200] \n",
        "all_X_values_test = all_X_values[-200:] #last 200 for test\n",
        "\n",
        "#split the targets into training/testing sets\n",
        "reading_score_Y_train = reading_score_Y[:-200]\n",
        "reading_score_Y_test = reading_score_Y[-200:] \n",
        "\n",
        "# Create linear regression object\n",
        "from sklearn.linear_model import Lasso\n",
        "\n",
        "#regr_reading=linear_model.LinearRegression()\n",
        "lambda_value = 10000 #hyperparameter \n",
        "regr_reading = Lasso(alpha=1)\n",
        "\n",
        "# normalize data to have zero mean and std one (feature scaling)\n",
        "from sklearn.preprocessing import StandardScaler\n",
        "scaler = StandardScaler()\n",
        "scaler.fit(all_X_values_train)# scaler fit is just for training dataset \n",
        "all_X_values_train_normalized = scaler.transform(all_X_values_train) #normalize training set\n",
        "\n",
        "# Train the model using the training sets\n",
        "regr_reading.fit(all_X_values_train_normalized, math_score_Y_train) # 1. REPRESENTAR hypothesis, 2. EVALUAR MSE Error Cuadratico Medio 3. OPTIMIZAR (Gradient Descent)\n",
        "\n",
        "# Make predictions using the testing set\n",
        "all_X_values_test_normalized = scaler.transform(all_X_values_test) #normalize test set \n",
        "reading_score_Y_pred = regr_reading.predict(all_X_values_test_normalized)\n",
        "\n",
        "# The coefficients theta_0 (inter.), theta_1 (pendiente)\n",
        "print(\"Coefficients: \\n\", \"theta_values = \", regr_reading.coef_, \" theta_0  = \", regr_reading.intercept_)\n",
        "#print(\"Coefficients: \\n\", regr.coef_, regr.intercept_)\n",
        "# The mean squared error\n",
        "print(\"Mean squared error (MSE Cost): %.2f\" % mean_squared_error(reading_score_Y_test, reading_score_Y_pred))\n",
        "# The coefficient of determination: 1 is perfect prediction, varía entre 0 y 1\n",
        "print(\"Coefficient of determination: %.2f\" % r2_score(reading_score_Y_test, reading_score_Y_pred))"
      ],
      "metadata": {
        "id": "K0H-e7ee1rAY",
        "colab": {
          "base_uri": "https://localhost:8080/"
        },
        "outputId": "6a91dfeb-2311-453d-9fbe-aab758508a41"
      },
      "execution_count": null,
      "outputs": [
        {
          "output_type": "stream",
          "name": "stdout",
          "text": [
            "Coefficients: \n",
            " theta_values =  [ 1.38473479  1.74804259  0.79924041 -4.00890501  1.99582076]  theta_0  =  65.98625\n",
            "Mean squared error (MSE Cost): 218.51\n",
            "Coefficient of determination: 0.03\n"
          ]
        }
      ]
    },
    {
      "cell_type": "code",
      "source": [],
      "metadata": {
        "id": "c4Xre8_AP2uG"
      },
      "execution_count": null,
      "outputs": []
    }
  ]
}